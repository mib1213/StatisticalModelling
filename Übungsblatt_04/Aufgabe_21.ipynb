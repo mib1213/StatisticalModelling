{
 "cells": [
  {
   "cell_type": "markdown",
   "id": "dad62fc6",
   "metadata": {},
   "source": [
    "Aufgabe 21.\n",
    ">Nutzen Sie den Datensatz Titanic Passengers, um eine Klassifikation mit KNN für die Zielgröße survived durchzuführen. Erzeugen Sie vorher eine nach survived stratifizierte Validierungsspalte mit einem Testanteil von 40%. Denken Sie darüber nach, welche Faktoren Sie für die Klassifikation verwenden. Für welches K erhalten Sie die kleinste Fehlklassifikationsrate auf den Testdaten?"
   ]
  },
  {
   "cell_type": "code",
   "execution_count": 161,
   "id": "376bb4ad",
   "metadata": {},
   "outputs": [],
   "source": [
    "import pandas as pd\n",
    "import seaborn as sns\n",
    "import matplotlib.pyplot as plt\n",
    "from utils import *\n",
    "from sklearn.model_selection import train_test_split\n",
    "from sklearn.preprocessing import MinMaxScaler, OneHotEncoder, OrdinalEncoder\n",
    "from sklearn.neighbors import KNeighborsClassifier\n",
    "from sklearn.metrics import classification_report, confusion_matrix, accuracy_score, precision_score, recall_score, f1_score\n",
    "from sklearn.ensemble import RandomForestClassifier\n",
    "from sklearn.compose import ColumnTransformer\n",
    "from sklearn.pipeline import Pipeline\n",
    "from sklearn.linear_model import LogisticRegression\n",
    "from sklearn.impute import SimpleImputer\n",
    "from statsmodels.discrete.discrete_model import Logit\n",
    "from statsmodels.tools.tools import add_constant"
   ]
  },
  {
   "cell_type": "code",
   "execution_count": 162,
   "id": "a1245173",
   "metadata": {},
   "outputs": [
    {
     "data": {
      "application/vnd.microsoft.datawrangler.viewer.v0+json": {
       "columns": [
        {
         "name": "index",
         "rawType": "int64",
         "type": "integer"
        },
        {
         "name": "Passenger Class",
         "rawType": "int64",
         "type": "integer"
        },
        {
         "name": "Survived",
         "rawType": "object",
         "type": "string"
        },
        {
         "name": "Name",
         "rawType": "object",
         "type": "string"
        },
        {
         "name": "Sex",
         "rawType": "object",
         "type": "string"
        },
        {
         "name": "Age",
         "rawType": "float64",
         "type": "float"
        },
        {
         "name": "Siblings and Spouses",
         "rawType": "int64",
         "type": "integer"
        },
        {
         "name": "Parents and Children",
         "rawType": "int64",
         "type": "integer"
        },
        {
         "name": "Ticket #",
         "rawType": "object",
         "type": "string"
        },
        {
         "name": "Fare",
         "rawType": "float64",
         "type": "float"
        },
        {
         "name": "Cabin",
         "rawType": "object",
         "type": "string"
        },
        {
         "name": "Port",
         "rawType": "object",
         "type": "string"
        },
        {
         "name": "Lifeboat",
         "rawType": "object",
         "type": "string"
        },
        {
         "name": "Body",
         "rawType": "float64",
         "type": "float"
        },
        {
         "name": "Home / Destination",
         "rawType": "object",
         "type": "string"
        },
        {
         "name": "Midpoint age",
         "rawType": "float64",
         "type": "float"
        }
       ],
       "conversionMethod": "pd.DataFrame",
       "ref": "ff7bca0a-89ae-4e1f-b666-b6574168b605",
       "rows": [
        [
         "0",
         "1",
         "Yes",
         "Allen, Miss. Elisabeth Walton",
         "female",
         "29.0",
         "0",
         "0",
         "24160",
         "211.3375",
         "B5",
         "S",
         "2",
         null,
         "St Louis, MO",
         "27.5"
        ],
        [
         "1",
         "1",
         "Yes",
         "Allison, Master. Hudson Trevor",
         "male",
         "0.9167",
         "1",
         "2",
         "113781",
         "151.55",
         "C22 C26",
         "S",
         "11",
         null,
         "Montreal, PQ / Chesterville, ON",
         "2.5"
        ],
        [
         "2",
         "1",
         "No",
         "Allison, Miss. Helen Loraine",
         "female",
         "2.0",
         "1",
         "2",
         "113781",
         "151.55",
         "C22 C26",
         "S",
         null,
         null,
         "Montreal, PQ / Chesterville, ON",
         "2.5"
        ]
       ],
       "shape": {
        "columns": 15,
        "rows": 3
       }
      },
      "text/html": [
       "<div>\n",
       "<style scoped>\n",
       "    .dataframe tbody tr th:only-of-type {\n",
       "        vertical-align: middle;\n",
       "    }\n",
       "\n",
       "    .dataframe tbody tr th {\n",
       "        vertical-align: top;\n",
       "    }\n",
       "\n",
       "    .dataframe thead th {\n",
       "        text-align: right;\n",
       "    }\n",
       "</style>\n",
       "<table border=\"1\" class=\"dataframe\">\n",
       "  <thead>\n",
       "    <tr style=\"text-align: right;\">\n",
       "      <th></th>\n",
       "      <th>Passenger Class</th>\n",
       "      <th>Survived</th>\n",
       "      <th>Name</th>\n",
       "      <th>Sex</th>\n",
       "      <th>Age</th>\n",
       "      <th>Siblings and Spouses</th>\n",
       "      <th>Parents and Children</th>\n",
       "      <th>Ticket #</th>\n",
       "      <th>Fare</th>\n",
       "      <th>Cabin</th>\n",
       "      <th>Port</th>\n",
       "      <th>Lifeboat</th>\n",
       "      <th>Body</th>\n",
       "      <th>Home / Destination</th>\n",
       "      <th>Midpoint age</th>\n",
       "    </tr>\n",
       "  </thead>\n",
       "  <tbody>\n",
       "    <tr>\n",
       "      <th>0</th>\n",
       "      <td>1</td>\n",
       "      <td>Yes</td>\n",
       "      <td>Allen, Miss. Elisabeth Walton</td>\n",
       "      <td>female</td>\n",
       "      <td>29.0000</td>\n",
       "      <td>0</td>\n",
       "      <td>0</td>\n",
       "      <td>24160</td>\n",
       "      <td>211.3375</td>\n",
       "      <td>B5</td>\n",
       "      <td>S</td>\n",
       "      <td>2</td>\n",
       "      <td>NaN</td>\n",
       "      <td>St Louis, MO</td>\n",
       "      <td>27.5</td>\n",
       "    </tr>\n",
       "    <tr>\n",
       "      <th>1</th>\n",
       "      <td>1</td>\n",
       "      <td>Yes</td>\n",
       "      <td>Allison, Master. Hudson Trevor</td>\n",
       "      <td>male</td>\n",
       "      <td>0.9167</td>\n",
       "      <td>1</td>\n",
       "      <td>2</td>\n",
       "      <td>113781</td>\n",
       "      <td>151.5500</td>\n",
       "      <td>C22 C26</td>\n",
       "      <td>S</td>\n",
       "      <td>11</td>\n",
       "      <td>NaN</td>\n",
       "      <td>Montreal, PQ / Chesterville, ON</td>\n",
       "      <td>2.5</td>\n",
       "    </tr>\n",
       "    <tr>\n",
       "      <th>2</th>\n",
       "      <td>1</td>\n",
       "      <td>No</td>\n",
       "      <td>Allison, Miss. Helen Loraine</td>\n",
       "      <td>female</td>\n",
       "      <td>2.0000</td>\n",
       "      <td>1</td>\n",
       "      <td>2</td>\n",
       "      <td>113781</td>\n",
       "      <td>151.5500</td>\n",
       "      <td>C22 C26</td>\n",
       "      <td>S</td>\n",
       "      <td>NaN</td>\n",
       "      <td>NaN</td>\n",
       "      <td>Montreal, PQ / Chesterville, ON</td>\n",
       "      <td>2.5</td>\n",
       "    </tr>\n",
       "  </tbody>\n",
       "</table>\n",
       "</div>"
      ],
      "text/plain": [
       "   Passenger Class Survived                            Name     Sex      Age  \\\n",
       "0                1      Yes   Allen, Miss. Elisabeth Walton  female  29.0000   \n",
       "1                1      Yes  Allison, Master. Hudson Trevor    male   0.9167   \n",
       "2                1       No    Allison, Miss. Helen Loraine  female   2.0000   \n",
       "\n",
       "   Siblings and Spouses  Parents and Children Ticket #      Fare    Cabin  \\\n",
       "0                     0                     0    24160  211.3375       B5   \n",
       "1                     1                     2   113781  151.5500  C22 C26   \n",
       "2                     1                     2   113781  151.5500  C22 C26   \n",
       "\n",
       "  Port Lifeboat  Body               Home / Destination  Midpoint age  \n",
       "0    S        2   NaN                     St Louis, MO          27.5  \n",
       "1    S       11   NaN  Montreal, PQ / Chesterville, ON           2.5  \n",
       "2    S      NaN   NaN  Montreal, PQ / Chesterville, ON           2.5  "
      ]
     },
     "execution_count": 162,
     "metadata": {},
     "output_type": "execute_result"
    }
   ],
   "source": [
    "df = pd.read_csv('../data/Titanic Passengers.csv', decimal=',')\n",
    "df.head(3)"
   ]
  },
  {
   "cell_type": "code",
   "execution_count": 163,
   "id": "0386a80b",
   "metadata": {},
   "outputs": [
    {
     "data": {
      "text/html": [
       "<style type=\"text/css\">\n",
       "#T_28d43_row0_col0, #T_28d43_row0_col1, #T_28d43_row0_col2, #T_28d43_row0_col3, #T_28d43_row0_col4, #T_28d43_row0_col5, #T_28d43_row0_col6, #T_28d43_row5_col0, #T_28d43_row5_col1, #T_28d43_row5_col2, #T_28d43_row5_col3, #T_28d43_row5_col4, #T_28d43_row5_col5, #T_28d43_row5_col6, #T_28d43_row6_col0, #T_28d43_row6_col1, #T_28d43_row6_col2, #T_28d43_row6_col3, #T_28d43_row6_col4, #T_28d43_row6_col5, #T_28d43_row6_col6 {\n",
       "  background-color: #66c2a5;\n",
       "}\n",
       "#T_28d43_row1_col0, #T_28d43_row1_col1, #T_28d43_row1_col2, #T_28d43_row1_col3, #T_28d43_row1_col4, #T_28d43_row1_col5, #T_28d43_row1_col6, #T_28d43_row2_col0, #T_28d43_row2_col1, #T_28d43_row2_col2, #T_28d43_row2_col3, #T_28d43_row2_col4, #T_28d43_row2_col5, #T_28d43_row2_col6, #T_28d43_row3_col0, #T_28d43_row3_col1, #T_28d43_row3_col2, #T_28d43_row3_col3, #T_28d43_row3_col4, #T_28d43_row3_col5, #T_28d43_row3_col6, #T_28d43_row7_col0, #T_28d43_row7_col1, #T_28d43_row7_col2, #T_28d43_row7_col3, #T_28d43_row7_col4, #T_28d43_row7_col5, #T_28d43_row7_col6, #T_28d43_row9_col0, #T_28d43_row9_col1, #T_28d43_row9_col2, #T_28d43_row9_col3, #T_28d43_row9_col4, #T_28d43_row9_col5, #T_28d43_row9_col6, #T_28d43_row10_col0, #T_28d43_row10_col1, #T_28d43_row10_col2, #T_28d43_row10_col3, #T_28d43_row10_col4, #T_28d43_row10_col5, #T_28d43_row10_col6, #T_28d43_row11_col0, #T_28d43_row11_col1, #T_28d43_row11_col2, #T_28d43_row11_col3, #T_28d43_row11_col4, #T_28d43_row11_col5, #T_28d43_row11_col6, #T_28d43_row13_col0, #T_28d43_row13_col1, #T_28d43_row13_col2, #T_28d43_row13_col3, #T_28d43_row13_col4, #T_28d43_row13_col5, #T_28d43_row13_col6 {\n",
       "  background-color: #fc8d62;\n",
       "}\n",
       "#T_28d43_row4_col0, #T_28d43_row4_col1, #T_28d43_row4_col2, #T_28d43_row4_col3, #T_28d43_row4_col4, #T_28d43_row4_col5, #T_28d43_row4_col6, #T_28d43_row8_col0, #T_28d43_row8_col1, #T_28d43_row8_col2, #T_28d43_row8_col3, #T_28d43_row8_col4, #T_28d43_row8_col5, #T_28d43_row8_col6, #T_28d43_row12_col0, #T_28d43_row12_col1, #T_28d43_row12_col2, #T_28d43_row12_col3, #T_28d43_row12_col4, #T_28d43_row12_col5, #T_28d43_row12_col6, #T_28d43_row14_col0, #T_28d43_row14_col1, #T_28d43_row14_col2, #T_28d43_row14_col3, #T_28d43_row14_col4, #T_28d43_row14_col5, #T_28d43_row14_col6 {\n",
       "  background-color: #8da0cb;\n",
       "}\n",
       "</style>\n",
       "<table id=\"T_28d43\">\n",
       "  <thead>\n",
       "    <tr>\n",
       "      <th class=\"blank level0\" >&nbsp;</th>\n",
       "      <th id=\"T_28d43_level0_col0\" class=\"col_heading level0 col0\" >Column Name</th>\n",
       "      <th id=\"T_28d43_level0_col1\" class=\"col_heading level0 col1\" >Min</th>\n",
       "      <th id=\"T_28d43_level0_col2\" class=\"col_heading level0 col2\" >Max</th>\n",
       "      <th id=\"T_28d43_level0_col3\" class=\"col_heading level0 col3\" >n Unique</th>\n",
       "      <th id=\"T_28d43_level0_col4\" class=\"col_heading level0 col4\" >NaN count</th>\n",
       "      <th id=\"T_28d43_level0_col5\" class=\"col_heading level0 col5\" >NaN percentage</th>\n",
       "      <th id=\"T_28d43_level0_col6\" class=\"col_heading level0 col6\" >dtype</th>\n",
       "    </tr>\n",
       "    <tr>\n",
       "      <th class=\"index_name level0\" >S. No.</th>\n",
       "      <th class=\"blank col0\" >&nbsp;</th>\n",
       "      <th class=\"blank col1\" >&nbsp;</th>\n",
       "      <th class=\"blank col2\" >&nbsp;</th>\n",
       "      <th class=\"blank col3\" >&nbsp;</th>\n",
       "      <th class=\"blank col4\" >&nbsp;</th>\n",
       "      <th class=\"blank col5\" >&nbsp;</th>\n",
       "      <th class=\"blank col6\" >&nbsp;</th>\n",
       "    </tr>\n",
       "  </thead>\n",
       "  <tbody>\n",
       "    <tr>\n",
       "      <th id=\"T_28d43_level0_row0\" class=\"row_heading level0 row0\" >1</th>\n",
       "      <td id=\"T_28d43_row0_col0\" class=\"data row0 col0\" >Passenger Class</td>\n",
       "      <td id=\"T_28d43_row0_col1\" class=\"data row0 col1\" >1</td>\n",
       "      <td id=\"T_28d43_row0_col2\" class=\"data row0 col2\" >3</td>\n",
       "      <td id=\"T_28d43_row0_col3\" class=\"data row0 col3\" >3</td>\n",
       "      <td id=\"T_28d43_row0_col4\" class=\"data row0 col4\" >0</td>\n",
       "      <td id=\"T_28d43_row0_col5\" class=\"data row0 col5\" >0.0%</td>\n",
       "      <td id=\"T_28d43_row0_col6\" class=\"data row0 col6\" >int64</td>\n",
       "    </tr>\n",
       "    <tr>\n",
       "      <th id=\"T_28d43_level0_row1\" class=\"row_heading level0 row1\" >2</th>\n",
       "      <td id=\"T_28d43_row1_col0\" class=\"data row1 col0\" >Survived</td>\n",
       "      <td id=\"T_28d43_row1_col1\" class=\"data row1 col1\" >nan</td>\n",
       "      <td id=\"T_28d43_row1_col2\" class=\"data row1 col2\" >nan</td>\n",
       "      <td id=\"T_28d43_row1_col3\" class=\"data row1 col3\" >2</td>\n",
       "      <td id=\"T_28d43_row1_col4\" class=\"data row1 col4\" >0</td>\n",
       "      <td id=\"T_28d43_row1_col5\" class=\"data row1 col5\" >0.0%</td>\n",
       "      <td id=\"T_28d43_row1_col6\" class=\"data row1 col6\" >object</td>\n",
       "    </tr>\n",
       "    <tr>\n",
       "      <th id=\"T_28d43_level0_row2\" class=\"row_heading level0 row2\" >3</th>\n",
       "      <td id=\"T_28d43_row2_col0\" class=\"data row2 col0\" >Name</td>\n",
       "      <td id=\"T_28d43_row2_col1\" class=\"data row2 col1\" >nan</td>\n",
       "      <td id=\"T_28d43_row2_col2\" class=\"data row2 col2\" >nan</td>\n",
       "      <td id=\"T_28d43_row2_col3\" class=\"data row2 col3\" >1307</td>\n",
       "      <td id=\"T_28d43_row2_col4\" class=\"data row2 col4\" >0</td>\n",
       "      <td id=\"T_28d43_row2_col5\" class=\"data row2 col5\" >0.0%</td>\n",
       "      <td id=\"T_28d43_row2_col6\" class=\"data row2 col6\" >object</td>\n",
       "    </tr>\n",
       "    <tr>\n",
       "      <th id=\"T_28d43_level0_row3\" class=\"row_heading level0 row3\" >4</th>\n",
       "      <td id=\"T_28d43_row3_col0\" class=\"data row3 col0\" >Sex</td>\n",
       "      <td id=\"T_28d43_row3_col1\" class=\"data row3 col1\" >nan</td>\n",
       "      <td id=\"T_28d43_row3_col2\" class=\"data row3 col2\" >nan</td>\n",
       "      <td id=\"T_28d43_row3_col3\" class=\"data row3 col3\" >2</td>\n",
       "      <td id=\"T_28d43_row3_col4\" class=\"data row3 col4\" >0</td>\n",
       "      <td id=\"T_28d43_row3_col5\" class=\"data row3 col5\" >0.0%</td>\n",
       "      <td id=\"T_28d43_row3_col6\" class=\"data row3 col6\" >object</td>\n",
       "    </tr>\n",
       "    <tr>\n",
       "      <th id=\"T_28d43_level0_row4\" class=\"row_heading level0 row4\" >5</th>\n",
       "      <td id=\"T_28d43_row4_col0\" class=\"data row4 col0\" >Age</td>\n",
       "      <td id=\"T_28d43_row4_col1\" class=\"data row4 col1\" >0.17</td>\n",
       "      <td id=\"T_28d43_row4_col2\" class=\"data row4 col2\" >80.0</td>\n",
       "      <td id=\"T_28d43_row4_col3\" class=\"data row4 col3\" >98</td>\n",
       "      <td id=\"T_28d43_row4_col4\" class=\"data row4 col4\" >263</td>\n",
       "      <td id=\"T_28d43_row4_col5\" class=\"data row4 col5\" >20.092%</td>\n",
       "      <td id=\"T_28d43_row4_col6\" class=\"data row4 col6\" >float64</td>\n",
       "    </tr>\n",
       "    <tr>\n",
       "      <th id=\"T_28d43_level0_row5\" class=\"row_heading level0 row5\" >6</th>\n",
       "      <td id=\"T_28d43_row5_col0\" class=\"data row5 col0\" >Siblings and Spouses</td>\n",
       "      <td id=\"T_28d43_row5_col1\" class=\"data row5 col1\" >0</td>\n",
       "      <td id=\"T_28d43_row5_col2\" class=\"data row5 col2\" >8</td>\n",
       "      <td id=\"T_28d43_row5_col3\" class=\"data row5 col3\" >7</td>\n",
       "      <td id=\"T_28d43_row5_col4\" class=\"data row5 col4\" >0</td>\n",
       "      <td id=\"T_28d43_row5_col5\" class=\"data row5 col5\" >0.0%</td>\n",
       "      <td id=\"T_28d43_row5_col6\" class=\"data row5 col6\" >int64</td>\n",
       "    </tr>\n",
       "    <tr>\n",
       "      <th id=\"T_28d43_level0_row6\" class=\"row_heading level0 row6\" >7</th>\n",
       "      <td id=\"T_28d43_row6_col0\" class=\"data row6 col0\" >Parents and Children</td>\n",
       "      <td id=\"T_28d43_row6_col1\" class=\"data row6 col1\" >0</td>\n",
       "      <td id=\"T_28d43_row6_col2\" class=\"data row6 col2\" >9</td>\n",
       "      <td id=\"T_28d43_row6_col3\" class=\"data row6 col3\" >8</td>\n",
       "      <td id=\"T_28d43_row6_col4\" class=\"data row6 col4\" >0</td>\n",
       "      <td id=\"T_28d43_row6_col5\" class=\"data row6 col5\" >0.0%</td>\n",
       "      <td id=\"T_28d43_row6_col6\" class=\"data row6 col6\" >int64</td>\n",
       "    </tr>\n",
       "    <tr>\n",
       "      <th id=\"T_28d43_level0_row7\" class=\"row_heading level0 row7\" >8</th>\n",
       "      <td id=\"T_28d43_row7_col0\" class=\"data row7 col0\" >Ticket #</td>\n",
       "      <td id=\"T_28d43_row7_col1\" class=\"data row7 col1\" >nan</td>\n",
       "      <td id=\"T_28d43_row7_col2\" class=\"data row7 col2\" >nan</td>\n",
       "      <td id=\"T_28d43_row7_col3\" class=\"data row7 col3\" >929</td>\n",
       "      <td id=\"T_28d43_row7_col4\" class=\"data row7 col4\" >0</td>\n",
       "      <td id=\"T_28d43_row7_col5\" class=\"data row7 col5\" >0.0%</td>\n",
       "      <td id=\"T_28d43_row7_col6\" class=\"data row7 col6\" >object</td>\n",
       "    </tr>\n",
       "    <tr>\n",
       "      <th id=\"T_28d43_level0_row8\" class=\"row_heading level0 row8\" >9</th>\n",
       "      <td id=\"T_28d43_row8_col0\" class=\"data row8 col0\" >Fare</td>\n",
       "      <td id=\"T_28d43_row8_col1\" class=\"data row8 col1\" >0.0</td>\n",
       "      <td id=\"T_28d43_row8_col2\" class=\"data row8 col2\" >512.33</td>\n",
       "      <td id=\"T_28d43_row8_col3\" class=\"data row8 col3\" >281</td>\n",
       "      <td id=\"T_28d43_row8_col4\" class=\"data row8 col4\" >1</td>\n",
       "      <td id=\"T_28d43_row8_col5\" class=\"data row8 col5\" >0.076%</td>\n",
       "      <td id=\"T_28d43_row8_col6\" class=\"data row8 col6\" >float64</td>\n",
       "    </tr>\n",
       "    <tr>\n",
       "      <th id=\"T_28d43_level0_row9\" class=\"row_heading level0 row9\" >10</th>\n",
       "      <td id=\"T_28d43_row9_col0\" class=\"data row9 col0\" >Cabin</td>\n",
       "      <td id=\"T_28d43_row9_col1\" class=\"data row9 col1\" >nan</td>\n",
       "      <td id=\"T_28d43_row9_col2\" class=\"data row9 col2\" >nan</td>\n",
       "      <td id=\"T_28d43_row9_col3\" class=\"data row9 col3\" >186</td>\n",
       "      <td id=\"T_28d43_row9_col4\" class=\"data row9 col4\" >1014</td>\n",
       "      <td id=\"T_28d43_row9_col5\" class=\"data row9 col5\" >77.464%</td>\n",
       "      <td id=\"T_28d43_row9_col6\" class=\"data row9 col6\" >object</td>\n",
       "    </tr>\n",
       "    <tr>\n",
       "      <th id=\"T_28d43_level0_row10\" class=\"row_heading level0 row10\" >11</th>\n",
       "      <td id=\"T_28d43_row10_col0\" class=\"data row10 col0\" >Port</td>\n",
       "      <td id=\"T_28d43_row10_col1\" class=\"data row10 col1\" >nan</td>\n",
       "      <td id=\"T_28d43_row10_col2\" class=\"data row10 col2\" >nan</td>\n",
       "      <td id=\"T_28d43_row10_col3\" class=\"data row10 col3\" >3</td>\n",
       "      <td id=\"T_28d43_row10_col4\" class=\"data row10 col4\" >2</td>\n",
       "      <td id=\"T_28d43_row10_col5\" class=\"data row10 col5\" >0.153%</td>\n",
       "      <td id=\"T_28d43_row10_col6\" class=\"data row10 col6\" >object</td>\n",
       "    </tr>\n",
       "    <tr>\n",
       "      <th id=\"T_28d43_level0_row11\" class=\"row_heading level0 row11\" >12</th>\n",
       "      <td id=\"T_28d43_row11_col0\" class=\"data row11 col0\" >Lifeboat</td>\n",
       "      <td id=\"T_28d43_row11_col1\" class=\"data row11 col1\" >nan</td>\n",
       "      <td id=\"T_28d43_row11_col2\" class=\"data row11 col2\" >nan</td>\n",
       "      <td id=\"T_28d43_row11_col3\" class=\"data row11 col3\" >27</td>\n",
       "      <td id=\"T_28d43_row11_col4\" class=\"data row11 col4\" >823</td>\n",
       "      <td id=\"T_28d43_row11_col5\" class=\"data row11 col5\" >62.872%</td>\n",
       "      <td id=\"T_28d43_row11_col6\" class=\"data row11 col6\" >object</td>\n",
       "    </tr>\n",
       "    <tr>\n",
       "      <th id=\"T_28d43_level0_row12\" class=\"row_heading level0 row12\" >13</th>\n",
       "      <td id=\"T_28d43_row12_col0\" class=\"data row12 col0\" >Body</td>\n",
       "      <td id=\"T_28d43_row12_col1\" class=\"data row12 col1\" >1.0</td>\n",
       "      <td id=\"T_28d43_row12_col2\" class=\"data row12 col2\" >328.0</td>\n",
       "      <td id=\"T_28d43_row12_col3\" class=\"data row12 col3\" >121</td>\n",
       "      <td id=\"T_28d43_row12_col4\" class=\"data row12 col4\" >1188</td>\n",
       "      <td id=\"T_28d43_row12_col5\" class=\"data row12 col5\" >90.756%</td>\n",
       "      <td id=\"T_28d43_row12_col6\" class=\"data row12 col6\" >float64</td>\n",
       "    </tr>\n",
       "    <tr>\n",
       "      <th id=\"T_28d43_level0_row13\" class=\"row_heading level0 row13\" >14</th>\n",
       "      <td id=\"T_28d43_row13_col0\" class=\"data row13 col0\" >Home / Destination</td>\n",
       "      <td id=\"T_28d43_row13_col1\" class=\"data row13 col1\" >nan</td>\n",
       "      <td id=\"T_28d43_row13_col2\" class=\"data row13 col2\" >nan</td>\n",
       "      <td id=\"T_28d43_row13_col3\" class=\"data row13 col3\" >369</td>\n",
       "      <td id=\"T_28d43_row13_col4\" class=\"data row13 col4\" >564</td>\n",
       "      <td id=\"T_28d43_row13_col5\" class=\"data row13 col5\" >43.086%</td>\n",
       "      <td id=\"T_28d43_row13_col6\" class=\"data row13 col6\" >object</td>\n",
       "    </tr>\n",
       "    <tr>\n",
       "      <th id=\"T_28d43_level0_row14\" class=\"row_heading level0 row14\" >15</th>\n",
       "      <td id=\"T_28d43_row14_col0\" class=\"data row14 col0\" >Midpoint age</td>\n",
       "      <td id=\"T_28d43_row14_col1\" class=\"data row14 col1\" >2.5</td>\n",
       "      <td id=\"T_28d43_row14_col2\" class=\"data row14 col2\" >82.5</td>\n",
       "      <td id=\"T_28d43_row14_col3\" class=\"data row14 col3\" >17</td>\n",
       "      <td id=\"T_28d43_row14_col4\" class=\"data row14 col4\" >263</td>\n",
       "      <td id=\"T_28d43_row14_col5\" class=\"data row14 col5\" >20.092%</td>\n",
       "      <td id=\"T_28d43_row14_col6\" class=\"data row14 col6\" >float64</td>\n",
       "    </tr>\n",
       "  </tbody>\n",
       "</table>\n"
      ],
      "text/plain": [
       "<pandas.io.formats.style.Styler at 0x17c6e7220>"
      ]
     },
     "execution_count": 163,
     "metadata": {},
     "output_type": "execute_result"
    }
   ],
   "source": [
    "show_missing_values(df)"
   ]
  },
  {
   "cell_type": "code",
   "execution_count": 164,
   "id": "2c09d40f",
   "metadata": {},
   "outputs": [],
   "source": [
    "# Columns Name and Ticket # are not useful for analysis and can be dropped\n",
    "\n",
    "df = df.drop(columns=['Name', 'Ticket #'])"
   ]
  },
  {
   "cell_type": "code",
   "execution_count": 165,
   "id": "0ee19a99",
   "metadata": {},
   "outputs": [
    {
     "data": {
      "application/vnd.microsoft.datawrangler.viewer.v0+json": {
       "columns": [
        {
         "name": "index",
         "rawType": "int64",
         "type": "integer"
        },
        {
         "name": "Passenger Class",
         "rawType": "int64",
         "type": "integer"
        },
        {
         "name": "Survived",
         "rawType": "object",
         "type": "string"
        },
        {
         "name": "Sex",
         "rawType": "object",
         "type": "string"
        },
        {
         "name": "Age",
         "rawType": "float64",
         "type": "float"
        },
        {
         "name": "Siblings and Spouses",
         "rawType": "int64",
         "type": "integer"
        },
        {
         "name": "Parents and Children",
         "rawType": "int64",
         "type": "integer"
        },
        {
         "name": "Fare",
         "rawType": "float64",
         "type": "float"
        },
        {
         "name": "Cabin",
         "rawType": "object",
         "type": "string"
        },
        {
         "name": "Port",
         "rawType": "object",
         "type": "string"
        },
        {
         "name": "Lifeboat",
         "rawType": "object",
         "type": "string"
        },
        {
         "name": "Home / Destination",
         "rawType": "object",
         "type": "string"
        },
        {
         "name": "Midpoint age",
         "rawType": "float64",
         "type": "float"
        },
        {
         "name": "is_body_recovered",
         "rawType": "int64",
         "type": "integer"
        }
       ],
       "conversionMethod": "pd.DataFrame",
       "ref": "260410bf-cae5-4342-903b-c27ff7eedd7b",
       "rows": [
        [
         "0",
         "1",
         "Yes",
         "female",
         "29.0",
         "0",
         "0",
         "211.3375",
         "B5",
         "S",
         "2",
         "St Louis, MO",
         "27.5",
         "0"
        ],
        [
         "1",
         "1",
         "Yes",
         "male",
         "0.9167",
         "1",
         "2",
         "151.55",
         "C22 C26",
         "S",
         "11",
         "Montreal, PQ / Chesterville, ON",
         "2.5",
         "0"
        ],
        [
         "2",
         "1",
         "No",
         "female",
         "2.0",
         "1",
         "2",
         "151.55",
         "C22 C26",
         "S",
         null,
         "Montreal, PQ / Chesterville, ON",
         "2.5",
         "0"
        ]
       ],
       "shape": {
        "columns": 13,
        "rows": 3
       }
      },
      "text/html": [
       "<div>\n",
       "<style scoped>\n",
       "    .dataframe tbody tr th:only-of-type {\n",
       "        vertical-align: middle;\n",
       "    }\n",
       "\n",
       "    .dataframe tbody tr th {\n",
       "        vertical-align: top;\n",
       "    }\n",
       "\n",
       "    .dataframe thead th {\n",
       "        text-align: right;\n",
       "    }\n",
       "</style>\n",
       "<table border=\"1\" class=\"dataframe\">\n",
       "  <thead>\n",
       "    <tr style=\"text-align: right;\">\n",
       "      <th></th>\n",
       "      <th>Passenger Class</th>\n",
       "      <th>Survived</th>\n",
       "      <th>Sex</th>\n",
       "      <th>Age</th>\n",
       "      <th>Siblings and Spouses</th>\n",
       "      <th>Parents and Children</th>\n",
       "      <th>Fare</th>\n",
       "      <th>Cabin</th>\n",
       "      <th>Port</th>\n",
       "      <th>Lifeboat</th>\n",
       "      <th>Home / Destination</th>\n",
       "      <th>Midpoint age</th>\n",
       "      <th>is_body_recovered</th>\n",
       "    </tr>\n",
       "  </thead>\n",
       "  <tbody>\n",
       "    <tr>\n",
       "      <th>0</th>\n",
       "      <td>1</td>\n",
       "      <td>Yes</td>\n",
       "      <td>female</td>\n",
       "      <td>29.0000</td>\n",
       "      <td>0</td>\n",
       "      <td>0</td>\n",
       "      <td>211.3375</td>\n",
       "      <td>B5</td>\n",
       "      <td>S</td>\n",
       "      <td>2</td>\n",
       "      <td>St Louis, MO</td>\n",
       "      <td>27.5</td>\n",
       "      <td>0</td>\n",
       "    </tr>\n",
       "    <tr>\n",
       "      <th>1</th>\n",
       "      <td>1</td>\n",
       "      <td>Yes</td>\n",
       "      <td>male</td>\n",
       "      <td>0.9167</td>\n",
       "      <td>1</td>\n",
       "      <td>2</td>\n",
       "      <td>151.5500</td>\n",
       "      <td>C22 C26</td>\n",
       "      <td>S</td>\n",
       "      <td>11</td>\n",
       "      <td>Montreal, PQ / Chesterville, ON</td>\n",
       "      <td>2.5</td>\n",
       "      <td>0</td>\n",
       "    </tr>\n",
       "    <tr>\n",
       "      <th>2</th>\n",
       "      <td>1</td>\n",
       "      <td>No</td>\n",
       "      <td>female</td>\n",
       "      <td>2.0000</td>\n",
       "      <td>1</td>\n",
       "      <td>2</td>\n",
       "      <td>151.5500</td>\n",
       "      <td>C22 C26</td>\n",
       "      <td>S</td>\n",
       "      <td>NaN</td>\n",
       "      <td>Montreal, PQ / Chesterville, ON</td>\n",
       "      <td>2.5</td>\n",
       "      <td>0</td>\n",
       "    </tr>\n",
       "  </tbody>\n",
       "</table>\n",
       "</div>"
      ],
      "text/plain": [
       "   Passenger Class Survived     Sex      Age  Siblings and Spouses  \\\n",
       "0                1      Yes  female  29.0000                     0   \n",
       "1                1      Yes    male   0.9167                     1   \n",
       "2                1       No  female   2.0000                     1   \n",
       "\n",
       "   Parents and Children      Fare    Cabin Port Lifeboat  \\\n",
       "0                     0  211.3375       B5    S        2   \n",
       "1                     2  151.5500  C22 C26    S       11   \n",
       "2                     2  151.5500  C22 C26    S      NaN   \n",
       "\n",
       "                Home / Destination  Midpoint age  is_body_recovered  \n",
       "0                     St Louis, MO          27.5                  0  \n",
       "1  Montreal, PQ / Chesterville, ON           2.5                  0  \n",
       "2  Montreal, PQ / Chesterville, ON           2.5                  0  "
      ]
     },
     "execution_count": 165,
     "metadata": {},
     "output_type": "execute_result"
    }
   ],
   "source": [
    "# if there is body value, it means the person died and the body was recovered\n",
    "# hence if(body) -> survived = 0 but not the other way around\n",
    "# adding a new column is_body_recovered and deleting the Body column because we don't need the specific body number\n",
    "\n",
    "df['is_body_recovered'] = df.Body.notna().astype(int)\n",
    "df = df.drop(columns=['Body'])\n",
    "df.head(3)"
   ]
  },
  {
   "cell_type": "code",
   "execution_count": 166,
   "id": "a5deb0bb",
   "metadata": {},
   "outputs": [
    {
     "data": {
      "application/vnd.microsoft.datawrangler.viewer.v0+json": {
       "columns": [
        {
         "name": "index",
         "rawType": "int64",
         "type": "integer"
        },
        {
         "name": "Passenger Class",
         "rawType": "int64",
         "type": "integer"
        },
        {
         "name": "Survived",
         "rawType": "object",
         "type": "string"
        },
        {
         "name": "Sex",
         "rawType": "object",
         "type": "string"
        },
        {
         "name": "Age",
         "rawType": "float64",
         "type": "float"
        },
        {
         "name": "Siblings and Spouses",
         "rawType": "int64",
         "type": "integer"
        },
        {
         "name": "Parents and Children",
         "rawType": "int64",
         "type": "integer"
        },
        {
         "name": "Fare",
         "rawType": "float64",
         "type": "float"
        },
        {
         "name": "Cabin",
         "rawType": "object",
         "type": "string"
        },
        {
         "name": "Port",
         "rawType": "object",
         "type": "string"
        },
        {
         "name": "Lifeboat",
         "rawType": "object",
         "type": "string"
        },
        {
         "name": "Home / Destination",
         "rawType": "object",
         "type": "string"
        },
        {
         "name": "Midpoint age",
         "rawType": "float64",
         "type": "float"
        },
        {
         "name": "is_body_recovered",
         "rawType": "int64",
         "type": "integer"
        }
       ],
       "conversionMethod": "pd.DataFrame",
       "ref": "424347aa-743b-4344-bb5f-0600a87a6a1e",
       "rows": [
        [
         "231",
         "1",
         "Yes",
         "male",
         "52.0",
         "0",
         "0",
         "30.5",
         "C104",
         "S",
         "6",
         "Toronto, ON",
         "52.5",
         "0"
        ],
        [
         "207",
         "1",
         "Yes",
         "female",
         "33.0",
         "1",
         "0",
         "90.0",
         "C78",
         "Q",
         "14",
         "Green Bay, WI",
         "32.5",
         "0"
        ],
        [
         "43",
         "1",
         "Yes",
         "female",
         "60.0",
         "0",
         "0",
         "76.2917",
         "D15",
         "C",
         "8",
         "Philadelphia, PA",
         "62.5",
         "0"
        ]
       ],
       "shape": {
        "columns": 13,
        "rows": 3
       }
      },
      "text/html": [
       "<div>\n",
       "<style scoped>\n",
       "    .dataframe tbody tr th:only-of-type {\n",
       "        vertical-align: middle;\n",
       "    }\n",
       "\n",
       "    .dataframe tbody tr th {\n",
       "        vertical-align: top;\n",
       "    }\n",
       "\n",
       "    .dataframe thead th {\n",
       "        text-align: right;\n",
       "    }\n",
       "</style>\n",
       "<table border=\"1\" class=\"dataframe\">\n",
       "  <thead>\n",
       "    <tr style=\"text-align: right;\">\n",
       "      <th></th>\n",
       "      <th>Passenger Class</th>\n",
       "      <th>Survived</th>\n",
       "      <th>Sex</th>\n",
       "      <th>Age</th>\n",
       "      <th>Siblings and Spouses</th>\n",
       "      <th>Parents and Children</th>\n",
       "      <th>Fare</th>\n",
       "      <th>Cabin</th>\n",
       "      <th>Port</th>\n",
       "      <th>Lifeboat</th>\n",
       "      <th>Home / Destination</th>\n",
       "      <th>Midpoint age</th>\n",
       "      <th>is_body_recovered</th>\n",
       "    </tr>\n",
       "  </thead>\n",
       "  <tbody>\n",
       "    <tr>\n",
       "      <th>231</th>\n",
       "      <td>1</td>\n",
       "      <td>Yes</td>\n",
       "      <td>male</td>\n",
       "      <td>52.0</td>\n",
       "      <td>0</td>\n",
       "      <td>0</td>\n",
       "      <td>30.5000</td>\n",
       "      <td>C104</td>\n",
       "      <td>S</td>\n",
       "      <td>6</td>\n",
       "      <td>Toronto, ON</td>\n",
       "      <td>52.5</td>\n",
       "      <td>0</td>\n",
       "    </tr>\n",
       "    <tr>\n",
       "      <th>207</th>\n",
       "      <td>1</td>\n",
       "      <td>Yes</td>\n",
       "      <td>female</td>\n",
       "      <td>33.0</td>\n",
       "      <td>1</td>\n",
       "      <td>0</td>\n",
       "      <td>90.0000</td>\n",
       "      <td>C78</td>\n",
       "      <td>Q</td>\n",
       "      <td>14</td>\n",
       "      <td>Green Bay, WI</td>\n",
       "      <td>32.5</td>\n",
       "      <td>0</td>\n",
       "    </tr>\n",
       "    <tr>\n",
       "      <th>43</th>\n",
       "      <td>1</td>\n",
       "      <td>Yes</td>\n",
       "      <td>female</td>\n",
       "      <td>60.0</td>\n",
       "      <td>0</td>\n",
       "      <td>0</td>\n",
       "      <td>76.2917</td>\n",
       "      <td>D15</td>\n",
       "      <td>C</td>\n",
       "      <td>8</td>\n",
       "      <td>Philadelphia, PA</td>\n",
       "      <td>62.5</td>\n",
       "      <td>0</td>\n",
       "    </tr>\n",
       "  </tbody>\n",
       "</table>\n",
       "</div>"
      ],
      "text/plain": [
       "     Passenger Class Survived     Sex   Age  Siblings and Spouses  \\\n",
       "231                1      Yes    male  52.0                     0   \n",
       "207                1      Yes  female  33.0                     1   \n",
       "43                 1      Yes  female  60.0                     0   \n",
       "\n",
       "     Parents and Children     Fare Cabin Port Lifeboat Home / Destination  \\\n",
       "231                     0  30.5000  C104    S        6        Toronto, ON   \n",
       "207                     0  90.0000   C78    Q       14      Green Bay, WI   \n",
       "43                      0  76.2917   D15    C        8   Philadelphia, PA   \n",
       "\n",
       "     Midpoint age  is_body_recovered  \n",
       "231          52.5                  0  \n",
       "207          32.5                  0  \n",
       "43           62.5                  0  "
      ]
     },
     "execution_count": 166,
     "metadata": {},
     "output_type": "execute_result"
    }
   ],
   "source": [
    "# cabin\n",
    "\n",
    "df.dropna(subset='Cabin').sample(3)"
   ]
  },
  {
   "cell_type": "code",
   "execution_count": 167,
   "id": "3c707a82",
   "metadata": {},
   "outputs": [],
   "source": [
    "# cabin is difficult to manage due to multiple cabin numbers for a single passenger and also alot of missing values so it makes sense to just drop the column\n",
    "\n",
    "df = df.drop(columns='Cabin')"
   ]
  },
  {
   "cell_type": "code",
   "execution_count": 168,
   "id": "8c4dff32",
   "metadata": {},
   "outputs": [
    {
     "data": {
      "text/plain": [
       "Yes    0.981481\n",
       "No     0.018519\n",
       "Name: Survived, dtype: float64"
      ]
     },
     "execution_count": 168,
     "metadata": {},
     "output_type": "execute_result"
    }
   ],
   "source": [
    "df.loc[df.Lifeboat.notna(), 'Survived'].value_counts(normalize=True)"
   ]
  },
  {
   "cell_type": "code",
   "execution_count": 169,
   "id": "2995bc1a",
   "metadata": {},
   "outputs": [
    {
     "data": {
      "text/plain": [
       "No     0.972053\n",
       "Yes    0.027947\n",
       "Name: Survived, dtype: float64"
      ]
     },
     "execution_count": 169,
     "metadata": {},
     "output_type": "execute_result"
    }
   ],
   "source": [
    "df.loc[df.Lifeboat.isna(), 'Survived'].value_counts(normalize=True)"
   ]
  },
  {
   "cell_type": "code",
   "execution_count": 170,
   "id": "4151b75e",
   "metadata": {},
   "outputs": [],
   "source": [
    "# here we can see clearly that when the Libefoat is not empty, the person survived 98% of the times, and when the lifeboat is empty, the person survived only 2% of the times\n",
    "# so we can drop the Lifeboat column and add a new column is_lifeboat\n",
    "\n",
    "df['is_lifeboat'] = df.Lifeboat.notna().astype(int)\n",
    "df = df.drop(columns=['Lifeboat'])"
   ]
  },
  {
   "cell_type": "code",
   "execution_count": 171,
   "id": "0d570442",
   "metadata": {},
   "outputs": [
    {
     "data": {
      "text/plain": [
       "New York, NY            64\n",
       "London                  14\n",
       "Montreal, PQ            10\n",
       "Paris, France            9\n",
       "Cornwall / Akron, OH     9\n",
       "Name: Home / Destination, dtype: int64"
      ]
     },
     "execution_count": 171,
     "metadata": {},
     "output_type": "execute_result"
    }
   ],
   "source": [
    "df['Home / Destination'].value_counts().head(5)"
   ]
  },
  {
   "cell_type": "code",
   "execution_count": 172,
   "id": "beae5c43",
   "metadata": {},
   "outputs": [
    {
     "data": {
      "text/plain": [
       "No     0.534228\n",
       "Yes    0.465772\n",
       "Name: Survived, dtype: float64"
      ]
     },
     "execution_count": 172,
     "metadata": {},
     "output_type": "execute_result"
    }
   ],
   "source": [
    "df.loc[df['Home / Destination'].notna(), 'Survived'].value_counts(normalize=True)"
   ]
  },
  {
   "cell_type": "code",
   "execution_count": 173,
   "id": "03f5d428",
   "metadata": {},
   "outputs": [
    {
     "data": {
      "text/plain": [
       "No     0.728723\n",
       "Yes    0.271277\n",
       "Name: Survived, dtype: float64"
      ]
     },
     "execution_count": 173,
     "metadata": {},
     "output_type": "execute_result"
    }
   ],
   "source": [
    "df.loc[df['Home / Destination'].isna(), 'Survived'].value_counts(normalize=True)"
   ]
  },
  {
   "cell_type": "code",
   "execution_count": 174,
   "id": "c608b0d6",
   "metadata": {},
   "outputs": [],
   "source": [
    "# here we see that there is not a clear correlation between the home/destination presence and survival and the values themselves are not very helpful since 43% are missing\n",
    "# so we can drop the column\n",
    "df = df.drop(columns=['Home / Destination'])"
   ]
  },
  {
   "cell_type": "code",
   "execution_count": 175,
   "id": "aa17c7c2",
   "metadata": {},
   "outputs": [
    {
     "data": {
      "application/vnd.microsoft.datawrangler.viewer.v0+json": {
       "columns": [
        {
         "name": "index",
         "rawType": "int64",
         "type": "integer"
        },
        {
         "name": "Age",
         "rawType": "float64",
         "type": "float"
        },
        {
         "name": "Midpoint age",
         "rawType": "float64",
         "type": "float"
        }
       ],
       "conversionMethod": "pd.DataFrame",
       "ref": "5d7a498f-9597-4f9c-b05b-2fba02b12bda",
       "rows": [
        [
         "0",
         "29.0",
         "27.5"
        ],
        [
         "1",
         "0.9167",
         "2.5"
        ],
        [
         "2",
         "2.0",
         "2.5"
        ]
       ],
       "shape": {
        "columns": 2,
        "rows": 3
       }
      },
      "text/html": [
       "<div>\n",
       "<style scoped>\n",
       "    .dataframe tbody tr th:only-of-type {\n",
       "        vertical-align: middle;\n",
       "    }\n",
       "\n",
       "    .dataframe tbody tr th {\n",
       "        vertical-align: top;\n",
       "    }\n",
       "\n",
       "    .dataframe thead th {\n",
       "        text-align: right;\n",
       "    }\n",
       "</style>\n",
       "<table border=\"1\" class=\"dataframe\">\n",
       "  <thead>\n",
       "    <tr style=\"text-align: right;\">\n",
       "      <th></th>\n",
       "      <th>Age</th>\n",
       "      <th>Midpoint age</th>\n",
       "    </tr>\n",
       "  </thead>\n",
       "  <tbody>\n",
       "    <tr>\n",
       "      <th>0</th>\n",
       "      <td>29.0000</td>\n",
       "      <td>27.5</td>\n",
       "    </tr>\n",
       "    <tr>\n",
       "      <th>1</th>\n",
       "      <td>0.9167</td>\n",
       "      <td>2.5</td>\n",
       "    </tr>\n",
       "    <tr>\n",
       "      <th>2</th>\n",
       "      <td>2.0000</td>\n",
       "      <td>2.5</td>\n",
       "    </tr>\n",
       "  </tbody>\n",
       "</table>\n",
       "</div>"
      ],
      "text/plain": [
       "       Age  Midpoint age\n",
       "0  29.0000          27.5\n",
       "1   0.9167           2.5\n",
       "2   2.0000           2.5"
      ]
     },
     "execution_count": 175,
     "metadata": {},
     "output_type": "execute_result"
    }
   ],
   "source": [
    "df.loc[:, ['Age', 'Midpoint age']].head(3)"
   ]
  },
  {
   "cell_type": "code",
   "execution_count": 176,
   "id": "fdecd9d9",
   "metadata": {},
   "outputs": [
    {
     "data": {
      "application/vnd.microsoft.datawrangler.viewer.v0+json": {
       "columns": [
        {
         "name": "index",
         "rawType": "int64",
         "type": "integer"
        },
        {
         "name": "Age",
         "rawType": "float64",
         "type": "float"
        },
        {
         "name": "Midpoint age",
         "rawType": "float64",
         "type": "float"
        }
       ],
       "conversionMethod": "pd.DataFrame",
       "ref": "46cf3de6-5930-48f6-89d3-f284a368e2f9",
       "rows": [
        [
         "15",
         null,
         null
        ],
        [
         "37",
         null,
         null
        ],
        [
         "40",
         null,
         null
        ]
       ],
       "shape": {
        "columns": 2,
        "rows": 3
       }
      },
      "text/html": [
       "<div>\n",
       "<style scoped>\n",
       "    .dataframe tbody tr th:only-of-type {\n",
       "        vertical-align: middle;\n",
       "    }\n",
       "\n",
       "    .dataframe tbody tr th {\n",
       "        vertical-align: top;\n",
       "    }\n",
       "\n",
       "    .dataframe thead th {\n",
       "        text-align: right;\n",
       "    }\n",
       "</style>\n",
       "<table border=\"1\" class=\"dataframe\">\n",
       "  <thead>\n",
       "    <tr style=\"text-align: right;\">\n",
       "      <th></th>\n",
       "      <th>Age</th>\n",
       "      <th>Midpoint age</th>\n",
       "    </tr>\n",
       "  </thead>\n",
       "  <tbody>\n",
       "    <tr>\n",
       "      <th>15</th>\n",
       "      <td>NaN</td>\n",
       "      <td>NaN</td>\n",
       "    </tr>\n",
       "    <tr>\n",
       "      <th>37</th>\n",
       "      <td>NaN</td>\n",
       "      <td>NaN</td>\n",
       "    </tr>\n",
       "    <tr>\n",
       "      <th>40</th>\n",
       "      <td>NaN</td>\n",
       "      <td>NaN</td>\n",
       "    </tr>\n",
       "  </tbody>\n",
       "</table>\n",
       "</div>"
      ],
      "text/plain": [
       "    Age  Midpoint age\n",
       "15  NaN           NaN\n",
       "37  NaN           NaN\n",
       "40  NaN           NaN"
      ]
     },
     "execution_count": 176,
     "metadata": {},
     "output_type": "execute_result"
    }
   ],
   "source": [
    "df.loc[df['Midpoint age'].isna(), ['Age', 'Midpoint age']].head(3)"
   ]
  },
  {
   "cell_type": "code",
   "execution_count": 177,
   "id": "a3bac5dc",
   "metadata": {},
   "outputs": [],
   "source": [
    "# I don't know what the Midpoint age is, but it seems to be a better representation of the age than the Age column\n",
    "# and both age and midpoint age have the same missing values, so one is not better than other in this factor as well\n",
    "# so we can drop the Age column and keep the Midpoint age column\n",
    "df = df.drop(columns=['Age'])"
   ]
  },
  {
   "cell_type": "code",
   "execution_count": 178,
   "id": "8fdcf881",
   "metadata": {},
   "outputs": [
    {
     "data": {
      "text/html": [
       "<style type=\"text/css\">\n",
       "#T_fa9d6_row0_col0, #T_fa9d6_row0_col1, #T_fa9d6_row0_col2, #T_fa9d6_row0_col3, #T_fa9d6_row0_col4, #T_fa9d6_row0_col5, #T_fa9d6_row0_col6, #T_fa9d6_row3_col0, #T_fa9d6_row3_col1, #T_fa9d6_row3_col2, #T_fa9d6_row3_col3, #T_fa9d6_row3_col4, #T_fa9d6_row3_col5, #T_fa9d6_row3_col6, #T_fa9d6_row4_col0, #T_fa9d6_row4_col1, #T_fa9d6_row4_col2, #T_fa9d6_row4_col3, #T_fa9d6_row4_col4, #T_fa9d6_row4_col5, #T_fa9d6_row4_col6, #T_fa9d6_row8_col0, #T_fa9d6_row8_col1, #T_fa9d6_row8_col2, #T_fa9d6_row8_col3, #T_fa9d6_row8_col4, #T_fa9d6_row8_col5, #T_fa9d6_row8_col6, #T_fa9d6_row9_col0, #T_fa9d6_row9_col1, #T_fa9d6_row9_col2, #T_fa9d6_row9_col3, #T_fa9d6_row9_col4, #T_fa9d6_row9_col5, #T_fa9d6_row9_col6 {\n",
       "  background-color: #66c2a5;\n",
       "}\n",
       "#T_fa9d6_row1_col0, #T_fa9d6_row1_col1, #T_fa9d6_row1_col2, #T_fa9d6_row1_col3, #T_fa9d6_row1_col4, #T_fa9d6_row1_col5, #T_fa9d6_row1_col6, #T_fa9d6_row2_col0, #T_fa9d6_row2_col1, #T_fa9d6_row2_col2, #T_fa9d6_row2_col3, #T_fa9d6_row2_col4, #T_fa9d6_row2_col5, #T_fa9d6_row2_col6, #T_fa9d6_row6_col0, #T_fa9d6_row6_col1, #T_fa9d6_row6_col2, #T_fa9d6_row6_col3, #T_fa9d6_row6_col4, #T_fa9d6_row6_col5, #T_fa9d6_row6_col6 {\n",
       "  background-color: #fc8d62;\n",
       "}\n",
       "#T_fa9d6_row5_col0, #T_fa9d6_row5_col1, #T_fa9d6_row5_col2, #T_fa9d6_row5_col3, #T_fa9d6_row5_col4, #T_fa9d6_row5_col5, #T_fa9d6_row5_col6, #T_fa9d6_row7_col0, #T_fa9d6_row7_col1, #T_fa9d6_row7_col2, #T_fa9d6_row7_col3, #T_fa9d6_row7_col4, #T_fa9d6_row7_col5, #T_fa9d6_row7_col6 {\n",
       "  background-color: #8da0cb;\n",
       "}\n",
       "</style>\n",
       "<table id=\"T_fa9d6\">\n",
       "  <thead>\n",
       "    <tr>\n",
       "      <th class=\"blank level0\" >&nbsp;</th>\n",
       "      <th id=\"T_fa9d6_level0_col0\" class=\"col_heading level0 col0\" >Column Name</th>\n",
       "      <th id=\"T_fa9d6_level0_col1\" class=\"col_heading level0 col1\" >Min</th>\n",
       "      <th id=\"T_fa9d6_level0_col2\" class=\"col_heading level0 col2\" >Max</th>\n",
       "      <th id=\"T_fa9d6_level0_col3\" class=\"col_heading level0 col3\" >n Unique</th>\n",
       "      <th id=\"T_fa9d6_level0_col4\" class=\"col_heading level0 col4\" >NaN count</th>\n",
       "      <th id=\"T_fa9d6_level0_col5\" class=\"col_heading level0 col5\" >NaN percentage</th>\n",
       "      <th id=\"T_fa9d6_level0_col6\" class=\"col_heading level0 col6\" >dtype</th>\n",
       "    </tr>\n",
       "    <tr>\n",
       "      <th class=\"index_name level0\" >S. No.</th>\n",
       "      <th class=\"blank col0\" >&nbsp;</th>\n",
       "      <th class=\"blank col1\" >&nbsp;</th>\n",
       "      <th class=\"blank col2\" >&nbsp;</th>\n",
       "      <th class=\"blank col3\" >&nbsp;</th>\n",
       "      <th class=\"blank col4\" >&nbsp;</th>\n",
       "      <th class=\"blank col5\" >&nbsp;</th>\n",
       "      <th class=\"blank col6\" >&nbsp;</th>\n",
       "    </tr>\n",
       "  </thead>\n",
       "  <tbody>\n",
       "    <tr>\n",
       "      <th id=\"T_fa9d6_level0_row0\" class=\"row_heading level0 row0\" >1</th>\n",
       "      <td id=\"T_fa9d6_row0_col0\" class=\"data row0 col0\" >Passenger Class</td>\n",
       "      <td id=\"T_fa9d6_row0_col1\" class=\"data row0 col1\" >1</td>\n",
       "      <td id=\"T_fa9d6_row0_col2\" class=\"data row0 col2\" >3</td>\n",
       "      <td id=\"T_fa9d6_row0_col3\" class=\"data row0 col3\" >3</td>\n",
       "      <td id=\"T_fa9d6_row0_col4\" class=\"data row0 col4\" >0</td>\n",
       "      <td id=\"T_fa9d6_row0_col5\" class=\"data row0 col5\" >0.0%</td>\n",
       "      <td id=\"T_fa9d6_row0_col6\" class=\"data row0 col6\" >int64</td>\n",
       "    </tr>\n",
       "    <tr>\n",
       "      <th id=\"T_fa9d6_level0_row1\" class=\"row_heading level0 row1\" >2</th>\n",
       "      <td id=\"T_fa9d6_row1_col0\" class=\"data row1 col0\" >Survived</td>\n",
       "      <td id=\"T_fa9d6_row1_col1\" class=\"data row1 col1\" >nan</td>\n",
       "      <td id=\"T_fa9d6_row1_col2\" class=\"data row1 col2\" >nan</td>\n",
       "      <td id=\"T_fa9d6_row1_col3\" class=\"data row1 col3\" >2</td>\n",
       "      <td id=\"T_fa9d6_row1_col4\" class=\"data row1 col4\" >0</td>\n",
       "      <td id=\"T_fa9d6_row1_col5\" class=\"data row1 col5\" >0.0%</td>\n",
       "      <td id=\"T_fa9d6_row1_col6\" class=\"data row1 col6\" >object</td>\n",
       "    </tr>\n",
       "    <tr>\n",
       "      <th id=\"T_fa9d6_level0_row2\" class=\"row_heading level0 row2\" >3</th>\n",
       "      <td id=\"T_fa9d6_row2_col0\" class=\"data row2 col0\" >Sex</td>\n",
       "      <td id=\"T_fa9d6_row2_col1\" class=\"data row2 col1\" >nan</td>\n",
       "      <td id=\"T_fa9d6_row2_col2\" class=\"data row2 col2\" >nan</td>\n",
       "      <td id=\"T_fa9d6_row2_col3\" class=\"data row2 col3\" >2</td>\n",
       "      <td id=\"T_fa9d6_row2_col4\" class=\"data row2 col4\" >0</td>\n",
       "      <td id=\"T_fa9d6_row2_col5\" class=\"data row2 col5\" >0.0%</td>\n",
       "      <td id=\"T_fa9d6_row2_col6\" class=\"data row2 col6\" >object</td>\n",
       "    </tr>\n",
       "    <tr>\n",
       "      <th id=\"T_fa9d6_level0_row3\" class=\"row_heading level0 row3\" >4</th>\n",
       "      <td id=\"T_fa9d6_row3_col0\" class=\"data row3 col0\" >Siblings and Spouses</td>\n",
       "      <td id=\"T_fa9d6_row3_col1\" class=\"data row3 col1\" >0</td>\n",
       "      <td id=\"T_fa9d6_row3_col2\" class=\"data row3 col2\" >8</td>\n",
       "      <td id=\"T_fa9d6_row3_col3\" class=\"data row3 col3\" >7</td>\n",
       "      <td id=\"T_fa9d6_row3_col4\" class=\"data row3 col4\" >0</td>\n",
       "      <td id=\"T_fa9d6_row3_col5\" class=\"data row3 col5\" >0.0%</td>\n",
       "      <td id=\"T_fa9d6_row3_col6\" class=\"data row3 col6\" >int64</td>\n",
       "    </tr>\n",
       "    <tr>\n",
       "      <th id=\"T_fa9d6_level0_row4\" class=\"row_heading level0 row4\" >5</th>\n",
       "      <td id=\"T_fa9d6_row4_col0\" class=\"data row4 col0\" >Parents and Children</td>\n",
       "      <td id=\"T_fa9d6_row4_col1\" class=\"data row4 col1\" >0</td>\n",
       "      <td id=\"T_fa9d6_row4_col2\" class=\"data row4 col2\" >9</td>\n",
       "      <td id=\"T_fa9d6_row4_col3\" class=\"data row4 col3\" >8</td>\n",
       "      <td id=\"T_fa9d6_row4_col4\" class=\"data row4 col4\" >0</td>\n",
       "      <td id=\"T_fa9d6_row4_col5\" class=\"data row4 col5\" >0.0%</td>\n",
       "      <td id=\"T_fa9d6_row4_col6\" class=\"data row4 col6\" >int64</td>\n",
       "    </tr>\n",
       "    <tr>\n",
       "      <th id=\"T_fa9d6_level0_row5\" class=\"row_heading level0 row5\" >6</th>\n",
       "      <td id=\"T_fa9d6_row5_col0\" class=\"data row5 col0\" >Fare</td>\n",
       "      <td id=\"T_fa9d6_row5_col1\" class=\"data row5 col1\" >0.0</td>\n",
       "      <td id=\"T_fa9d6_row5_col2\" class=\"data row5 col2\" >512.33</td>\n",
       "      <td id=\"T_fa9d6_row5_col3\" class=\"data row5 col3\" >281</td>\n",
       "      <td id=\"T_fa9d6_row5_col4\" class=\"data row5 col4\" >1</td>\n",
       "      <td id=\"T_fa9d6_row5_col5\" class=\"data row5 col5\" >0.076%</td>\n",
       "      <td id=\"T_fa9d6_row5_col6\" class=\"data row5 col6\" >float64</td>\n",
       "    </tr>\n",
       "    <tr>\n",
       "      <th id=\"T_fa9d6_level0_row6\" class=\"row_heading level0 row6\" >7</th>\n",
       "      <td id=\"T_fa9d6_row6_col0\" class=\"data row6 col0\" >Port</td>\n",
       "      <td id=\"T_fa9d6_row6_col1\" class=\"data row6 col1\" >nan</td>\n",
       "      <td id=\"T_fa9d6_row6_col2\" class=\"data row6 col2\" >nan</td>\n",
       "      <td id=\"T_fa9d6_row6_col3\" class=\"data row6 col3\" >3</td>\n",
       "      <td id=\"T_fa9d6_row6_col4\" class=\"data row6 col4\" >2</td>\n",
       "      <td id=\"T_fa9d6_row6_col5\" class=\"data row6 col5\" >0.153%</td>\n",
       "      <td id=\"T_fa9d6_row6_col6\" class=\"data row6 col6\" >object</td>\n",
       "    </tr>\n",
       "    <tr>\n",
       "      <th id=\"T_fa9d6_level0_row7\" class=\"row_heading level0 row7\" >8</th>\n",
       "      <td id=\"T_fa9d6_row7_col0\" class=\"data row7 col0\" >Midpoint age</td>\n",
       "      <td id=\"T_fa9d6_row7_col1\" class=\"data row7 col1\" >2.5</td>\n",
       "      <td id=\"T_fa9d6_row7_col2\" class=\"data row7 col2\" >82.5</td>\n",
       "      <td id=\"T_fa9d6_row7_col3\" class=\"data row7 col3\" >17</td>\n",
       "      <td id=\"T_fa9d6_row7_col4\" class=\"data row7 col4\" >263</td>\n",
       "      <td id=\"T_fa9d6_row7_col5\" class=\"data row7 col5\" >20.092%</td>\n",
       "      <td id=\"T_fa9d6_row7_col6\" class=\"data row7 col6\" >float64</td>\n",
       "    </tr>\n",
       "    <tr>\n",
       "      <th id=\"T_fa9d6_level0_row8\" class=\"row_heading level0 row8\" >9</th>\n",
       "      <td id=\"T_fa9d6_row8_col0\" class=\"data row8 col0\" >is_body_recovered</td>\n",
       "      <td id=\"T_fa9d6_row8_col1\" class=\"data row8 col1\" >0</td>\n",
       "      <td id=\"T_fa9d6_row8_col2\" class=\"data row8 col2\" >1</td>\n",
       "      <td id=\"T_fa9d6_row8_col3\" class=\"data row8 col3\" >2</td>\n",
       "      <td id=\"T_fa9d6_row8_col4\" class=\"data row8 col4\" >0</td>\n",
       "      <td id=\"T_fa9d6_row8_col5\" class=\"data row8 col5\" >0.0%</td>\n",
       "      <td id=\"T_fa9d6_row8_col6\" class=\"data row8 col6\" >int64</td>\n",
       "    </tr>\n",
       "    <tr>\n",
       "      <th id=\"T_fa9d6_level0_row9\" class=\"row_heading level0 row9\" >10</th>\n",
       "      <td id=\"T_fa9d6_row9_col0\" class=\"data row9 col0\" >is_lifeboat</td>\n",
       "      <td id=\"T_fa9d6_row9_col1\" class=\"data row9 col1\" >0</td>\n",
       "      <td id=\"T_fa9d6_row9_col2\" class=\"data row9 col2\" >1</td>\n",
       "      <td id=\"T_fa9d6_row9_col3\" class=\"data row9 col3\" >2</td>\n",
       "      <td id=\"T_fa9d6_row9_col4\" class=\"data row9 col4\" >0</td>\n",
       "      <td id=\"T_fa9d6_row9_col5\" class=\"data row9 col5\" >0.0%</td>\n",
       "      <td id=\"T_fa9d6_row9_col6\" class=\"data row9 col6\" >int64</td>\n",
       "    </tr>\n",
       "  </tbody>\n",
       "</table>\n"
      ],
      "text/plain": [
       "<pandas.io.formats.style.Styler at 0x17c6e6f80>"
      ]
     },
     "execution_count": 178,
     "metadata": {},
     "output_type": "execute_result"
    }
   ],
   "source": [
    "show_missing_values(df)"
   ]
  },
  {
   "cell_type": "code",
   "execution_count": 179,
   "id": "4ca90c8f",
   "metadata": {},
   "outputs": [],
   "source": [
    "# drop the missing values of Port and Fare since only 2 and 1 missing values respectively, so not worth the effort to impute them\n",
    "df = df.dropna(subset=['Port', 'Fare'])"
   ]
  },
  {
   "cell_type": "code",
   "execution_count": 180,
   "id": "d20e6548",
   "metadata": {},
   "outputs": [],
   "source": [
    "X = df.loc[:, ['Fare', 'Midpoint age']]\n",
    "y = df['Survived']\n",
    "X_train, X_test, y_train, y_test = train_test_split(X, y, test_size=0.4, random_state=42, stratify=y)"
   ]
  },
  {
   "cell_type": "code",
   "execution_count": 181,
   "id": "48efeb3f",
   "metadata": {},
   "outputs": [],
   "source": [
    "# i am going to fill up the missing values in the Midpoint age column with the mean of the column\n",
    "# making sure there is no data leakage by calculating the mean on the training set and then applying it on the complete dataset\n",
    "mean_imputer = SimpleImputer()\n",
    "X_train = mean_imputer.fit_transform(X_train)\n",
    "X_test = mean_imputer.transform(X_test)\n",
    "\n",
    "# since scaling is needed in KNN, lets do MinMax scaling\n",
    "scaler = MinMaxScaler()\n",
    "X_train_scaled = scaler.fit_transform(X_train)\n",
    "X_test_scaled = scaler.transform(X_test)"
   ]
  },
  {
   "cell_type": "code",
   "execution_count": 182,
   "id": "f0101728",
   "metadata": {},
   "outputs": [
    {
     "data": {
      "image/png": "[encoded data removed]",
      "text/plain": [
       "<Figure size 640x480 with 1 Axes>"
      ]
     },
     "metadata": {},
     "output_type": "display_data"
    }
   ],
   "source": [
    "# find the best k value based on the precision, recall, f1 score and accuracy\n",
    "\n",
    "precisions = []\n",
    "recalls = []\n",
    "f1s = []\n",
    "accuracies = []\n",
    "k_max = 10\n",
    "for k in range(1, k_max):\n",
    "    model = KNeighborsClassifier(n_neighbors=k)\n",
    "    model.fit(X_train_scaled, y_train)\n",
    "    y_pred = model.predict(X_test_scaled)\n",
    "    precisions.append(precision_score(y_test, y_pred, pos_label='Yes'))\n",
    "    recalls.append(recall_score(y_test, y_pred, pos_label='Yes'))\n",
    "    f1s.append(f1_score(y_test, y_pred, pos_label='Yes'))\n",
    "    accuracies.append(accuracy_score(y_test, y_pred))\n",
    "\n",
    "# plot the results\n",
    "sns.lineplot(x=range(1, k_max), y=precisions, label='Precision')\n",
    "sns.lineplot(x=range(1, k_max), y=recalls, label='Recall')\n",
    "sns.lineplot(x=range(1, k_max), y=f1s, label='F1 Score')\n",
    "sns.lineplot(x=range(1, k_max), y=accuracies, label='Accuracy')\n",
    "plt.xticks(range(1, k_max))\n",
    "plt.show()"
   ]
  },
  {
   "cell_type": "code",
   "execution_count": 183,
   "id": "6c0d031f",
   "metadata": {},
   "outputs": [],
   "source": [
    "# i think the best k value is 3, because it has the best f1 score and accuracy"
   ]
  },
  {
   "cell_type": "code",
   "execution_count": 184,
   "id": "851addb3",
   "metadata": {},
   "outputs": [
    {
     "name": "stdout",
     "output_type": "stream",
     "text": [
      "Accuracy: 0.64\n",
      "              precision    recall  f1-score   support\n",
      "\n",
      "          No       0.69      0.79      0.73       324\n",
      "         Yes       0.54      0.41      0.47       199\n",
      "\n",
      "    accuracy                           0.64       523\n",
      "   macro avg       0.61      0.60      0.60       523\n",
      "weighted avg       0.63      0.64      0.63       523\n",
      "\n"
     ]
    },
    {
     "data": {
      "image/png": "[encoded data removed]",
      "text/plain": [
       "<Figure size 640x480 with 2 Axes>"
      ]
     },
     "metadata": {},
     "output_type": "display_data"
    }
   ],
   "source": [
    "model = KNeighborsClassifier(n_neighbors=3)\n",
    "model.fit(X_train_scaled, y_train)\n",
    "y_pred = model.predict(X_test_scaled)\n",
    "print(f'Accuracy: {accuracy_score(y_test, y_pred):.2f}')\n",
    "print(classification_report(y_test, y_pred))\n",
    "cm = confusion_matrix(y_test, y_pred)\n",
    "sns.heatmap(cm, annot=True, fmt='d', cmap='Blues', xticklabels=['Not Survived', 'Survived'], yticklabels=['Not Survived', 'Survived']);\n",
    "plt.xlabel('Predicted')\n",
    "plt.ylabel('True')\n",
    "plt.title('Confusion Matrix')\n",
    "plt.show()"
   ]
  },
  {
   "cell_type": "code",
   "execution_count": 185,
   "id": "01c7ba8d",
   "metadata": {},
   "outputs": [
    {
     "name": "stdout",
     "output_type": "stream",
     "text": [
      "Accuracy: 0.97\n",
      "              precision    recall  f1-score   support\n",
      "\n",
      "           0       0.96      0.99      0.98       324\n",
      "           1       0.98      0.94      0.96       199\n",
      "\n",
      "    accuracy                           0.97       523\n",
      "   macro avg       0.97      0.96      0.97       523\n",
      "weighted avg       0.97      0.97      0.97       523\n",
      "\n"
     ]
    },
    {
     "data": {
      "image/png": "[encoded data removed]",
      "text/plain": [
       "<Figure size 640x480 with 2 Axes>"
      ]
     },
     "metadata": {},
     "output_type": "display_data"
    },
    {
     "data": {
      "image/png": "[encoded data removed]",
      "text/plain": [
       "<Figure size 1000x600 with 1 Axes>"
      ]
     },
     "metadata": {},
     "output_type": "display_data"
    }
   ],
   "source": [
    "# since at first I did not realize that i can not use the categorical features in KNN, I cleaned\n",
    "# all the variables, so I think it is worth to try to use them in some other classifier, maybe Random Forest Classifier\n",
    "X = df.drop(columns=['Survived'])\n",
    "y = df['Survived']\n",
    "y = y.map({'No': 0, 'Yes': 1})\n",
    "X_train, X_test, y_train, y_test = train_test_split(X, y, test_size=0.4, random_state=42, stratify=y)\n",
    "\n",
    "cols_to_ohe = ['Sex', 'Port', 'is_body_recovered', 'is_lifeboat']\n",
    "cols_to_oe = ['Passenger Class', 'Siblings and Spouses', 'Parents and Children']\n",
    "cols_to_mean_impute = ['Midpoint age']\n",
    "\n",
    "ordering = [\n",
    "    sorted(df['Passenger Class'].unique()),\n",
    "    sorted(df['Siblings and Spouses'].unique()),\n",
    "    sorted(df['Parents and Children'].unique())\n",
    "]\n",
    "\n",
    "preprocessor = ColumnTransformer(\n",
    "    transformers=[\n",
    "        ('ohe', OneHotEncoder(handle_unknown='ignore', drop='first', sparse_output=False), cols_to_ohe),\n",
    "        ('oe', OrdinalEncoder(categories=ordering), cols_to_oe),\n",
    "        ('impute_mean', SimpleImputer(), cols_to_mean_impute)\n",
    "    ],\n",
    "    remainder='passthrough'\n",
    ")\n",
    "pipeline = Pipeline(steps=[\n",
    "    ('preprocessor', preprocessor),\n",
    "    ('model', RandomForestClassifier(random_state=42, n_estimators=100))\n",
    "])\n",
    "pipeline.fit(X_train, y_train)\n",
    "y_pred = pipeline.predict(X_test)\n",
    "print(f'Accuracy: {accuracy_score(y_test, y_pred):.2f}')\n",
    "print(classification_report(y_test, y_pred))\n",
    "cm = confusion_matrix(y_test, y_pred)\n",
    "sns.heatmap(cm, annot=True, fmt='d', cmap='Blues', xticklabels=['Not Survived', 'Survived'], yticklabels=['Not Survived', 'Survived']);\n",
    "plt.xlabel('Predicted')\n",
    "plt.ylabel('True')\n",
    "plt.title('Confusion Matrix')\n",
    "plt.show()\n",
    "# plot feature importances\n",
    "importances = pipeline.named_steps['model'].feature_importances_\n",
    "feature_names = pipeline.named_steps['preprocessor'].get_feature_names_out()\n",
    "indices = importances.argsort()[::-1]\n",
    "plt.figure(figsize=(10, 6))\n",
    "plt.title('Feature Importances')\n",
    "plt.bar(range(len(importances)), importances[indices], align='center')\n",
    "plt.xticks(range(len(importances)), feature_names[indices], rotation=90)\n",
    "plt.tight_layout()\n",
    "plt.show()"
   ]
  },
  {
   "cell_type": "code",
   "execution_count": 186,
   "id": "25630079",
   "metadata": {},
   "outputs": [],
   "source": [
    "# with random forest classifier we are able to achieve 0.97 accuracy\n",
    "# and we can see that the most important features are the is_lifeboat, Sex and Fare\n",
    "# lets see how the logistic regression performs using just these 3 features"
   ]
  },
  {
   "cell_type": "code",
   "execution_count": 187,
   "id": "e732664f",
   "metadata": {},
   "outputs": [
    {
     "data": {
      "application/vnd.microsoft.datawrangler.viewer.v0+json": {
       "columns": [
        {
         "name": "index",
         "rawType": "int64",
         "type": "integer"
        },
        {
         "name": "ohe__Sex_male",
         "rawType": "float64",
         "type": "float"
        },
        {
         "name": "ohe__Port_Q",
         "rawType": "float64",
         "type": "float"
        },
        {
         "name": "ohe__Port_S",
         "rawType": "float64",
         "type": "float"
        },
        {
         "name": "ohe__is_body_recovered_1",
         "rawType": "float64",
         "type": "float"
        },
        {
         "name": "ohe__is_lifeboat_1",
         "rawType": "float64",
         "type": "float"
        },
        {
         "name": "oe__Passenger Class",
         "rawType": "float64",
         "type": "float"
        },
        {
         "name": "oe__Siblings and Spouses",
         "rawType": "float64",
         "type": "float"
        },
        {
         "name": "oe__Parents and Children",
         "rawType": "float64",
         "type": "float"
        },
        {
         "name": "impute_mean__Midpoint age",
         "rawType": "float64",
         "type": "float"
        },
        {
         "name": "remainder__Fare",
         "rawType": "float64",
         "type": "float"
        }
       ],
       "conversionMethod": "pd.DataFrame",
       "ref": "e446a472-19e3-40b7-a12b-3d6d5bf44a6b",
       "rows": [
        [
         "0",
         "0.0",
         "0.0",
         "1.0",
         "0.0",
         "1.0",
         "0.0",
         "0.0",
         "0.0",
         "27.5",
         "211.3375"
        ],
        [
         "1",
         "1.0",
         "0.0",
         "1.0",
         "0.0",
         "1.0",
         "0.0",
         "1.0",
         "2.0",
         "2.5",
         "151.55"
        ],
        [
         "2",
         "0.0",
         "0.0",
         "1.0",
         "0.0",
         "0.0",
         "0.0",
         "1.0",
         "2.0",
         "2.5",
         "151.55"
        ]
       ],
       "shape": {
        "columns": 10,
        "rows": 3
       }
      },
      "text/html": [
       "<div>\n",
       "<style scoped>\n",
       "    .dataframe tbody tr th:only-of-type {\n",
       "        vertical-align: middle;\n",
       "    }\n",
       "\n",
       "    .dataframe tbody tr th {\n",
       "        vertical-align: top;\n",
       "    }\n",
       "\n",
       "    .dataframe thead th {\n",
       "        text-align: right;\n",
       "    }\n",
       "</style>\n",
       "<table border=\"1\" class=\"dataframe\">\n",
       "  <thead>\n",
       "    <tr style=\"text-align: right;\">\n",
       "      <th></th>\n",
       "      <th>ohe__Sex_male</th>\n",
       "      <th>ohe__Port_Q</th>\n",
       "      <th>ohe__Port_S</th>\n",
       "      <th>ohe__is_body_recovered_1</th>\n",
       "      <th>ohe__is_lifeboat_1</th>\n",
       "      <th>oe__Passenger Class</th>\n",
       "      <th>oe__Siblings and Spouses</th>\n",
       "      <th>oe__Parents and Children</th>\n",
       "      <th>impute_mean__Midpoint age</th>\n",
       "      <th>remainder__Fare</th>\n",
       "    </tr>\n",
       "  </thead>\n",
       "  <tbody>\n",
       "    <tr>\n",
       "      <th>0</th>\n",
       "      <td>0.0</td>\n",
       "      <td>0.0</td>\n",
       "      <td>1.0</td>\n",
       "      <td>0.0</td>\n",
       "      <td>1.0</td>\n",
       "      <td>0.0</td>\n",
       "      <td>0.0</td>\n",
       "      <td>0.0</td>\n",
       "      <td>27.5</td>\n",
       "      <td>211.3375</td>\n",
       "    </tr>\n",
       "    <tr>\n",
       "      <th>1</th>\n",
       "      <td>1.0</td>\n",
       "      <td>0.0</td>\n",
       "      <td>1.0</td>\n",
       "      <td>0.0</td>\n",
       "      <td>1.0</td>\n",
       "      <td>0.0</td>\n",
       "      <td>1.0</td>\n",
       "      <td>2.0</td>\n",
       "      <td>2.5</td>\n",
       "      <td>151.5500</td>\n",
       "    </tr>\n",
       "    <tr>\n",
       "      <th>2</th>\n",
       "      <td>0.0</td>\n",
       "      <td>0.0</td>\n",
       "      <td>1.0</td>\n",
       "      <td>0.0</td>\n",
       "      <td>0.0</td>\n",
       "      <td>0.0</td>\n",
       "      <td>1.0</td>\n",
       "      <td>2.0</td>\n",
       "      <td>2.5</td>\n",
       "      <td>151.5500</td>\n",
       "    </tr>\n",
       "  </tbody>\n",
       "</table>\n",
       "</div>"
      ],
      "text/plain": [
       "   ohe__Sex_male  ohe__Port_Q  ohe__Port_S  ohe__is_body_recovered_1  \\\n",
       "0            0.0          0.0          1.0                       0.0   \n",
       "1            1.0          0.0          1.0                       0.0   \n",
       "2            0.0          0.0          1.0                       0.0   \n",
       "\n",
       "   ohe__is_lifeboat_1  oe__Passenger Class  oe__Siblings and Spouses  \\\n",
       "0                 1.0                  0.0                       0.0   \n",
       "1                 1.0                  0.0                       1.0   \n",
       "2                 0.0                  0.0                       1.0   \n",
       "\n",
       "   oe__Parents and Children  impute_mean__Midpoint age  remainder__Fare  \n",
       "0                       0.0                       27.5         211.3375  \n",
       "1                       2.0                        2.5         151.5500  \n",
       "2                       2.0                        2.5         151.5500  "
      ]
     },
     "execution_count": 187,
     "metadata": {},
     "output_type": "execute_result"
    }
   ],
   "source": [
    "X = df.drop(columns=['Survived'])\n",
    "y = df['Survived'].map({'No': 0, 'Yes': 1})\n",
    "X_processed = preprocessor.fit_transform(X)\n",
    "feature_names = preprocessor.get_feature_names_out()\n",
    "X_df = pd.DataFrame(X_processed, columns=feature_names, index=X.index)\n",
    "X_df.head(3)"
   ]
  },
  {
   "cell_type": "code",
   "execution_count": 188,
   "id": "ffe43d85",
   "metadata": {},
   "outputs": [
    {
     "name": "stdout",
     "output_type": "stream",
     "text": [
      "Warning: Maximum number of iterations has been exceeded.\n",
      "         Current function value: 0.080747\n",
      "         Iterations: 35\n",
      "                           Logit Regression Results                           \n",
      "==============================================================================\n",
      "Dep. Variable:               Survived   No. Observations:                 1306\n",
      "Model:                          Logit   Df Residuals:                     1295\n",
      "Method:                           MLE   Df Model:                           10\n",
      "Date:                Sat, 12 Apr 2025   Pseudo R-squ.:                  0.8785\n",
      "Time:                        12:12:16   Log-Likelihood:                -105.46\n",
      "converged:                      False   LL-Null:                       -868.10\n",
      "Covariance Type:            nonrobust   LLR p-value:                     0.000\n",
      "=============================================================================================\n",
      "                                coef    std err          z      P>|z|      [0.025      0.975]\n",
      "---------------------------------------------------------------------------------------------\n",
      "const                         0.2768      1.032      0.268      0.788      -1.746       2.299\n",
      "ohe__Sex_male                -3.9445      0.641     -6.157      0.000      -5.200      -2.689\n",
      "ohe__Port_Q                   0.5776      0.722      0.800      0.424      -0.837       1.992\n",
      "ohe__Port_S                  -0.1867      0.541     -0.345      0.730      -1.248       0.875\n",
      "ohe__is_body_recovered_1    -20.2136    1.7e+04     -0.001      0.999   -3.33e+04    3.33e+04\n",
      "ohe__is_lifeboat_1            8.3431      0.674     12.371      0.000       7.021       9.665\n",
      "oe__Passenger Class          -0.7133      0.355     -2.007      0.045      -1.410      -0.017\n",
      "oe__Siblings and Spouses     -0.1695      0.247     -0.686      0.493      -0.654       0.315\n",
      "oe__Parents and Children     -0.4305      0.340     -1.267      0.205      -1.097       0.236\n",
      "impute_mean__Midpoint age    -0.0173      0.018     -0.974      0.330      -0.052       0.018\n",
      "remainder__Fare              -0.0007      0.006     -0.120      0.905      -0.012       0.011\n",
      "=============================================================================================\n"
     ]
    },
    {
     "name": "stderr",
     "output_type": "stream",
     "text": [
      "/Users/omer/miniforge3/envs/statistics/lib/python3.10/site-packages/statsmodels/base/model.py:607: ConvergenceWarning: Maximum Likelihood optimization failed to converge. Check mle_retvals\n",
      "  warnings.warn(\"Maximum Likelihood optimization failed to \"\n"
     ]
    }
   ],
   "source": [
    "X_df = add_constant(X_df)\n",
    "model = Logit(y, X_df)\n",
    "result = model.fit()\n",
    "print(result.summary())"
   ]
  },
  {
   "cell_type": "code",
   "execution_count": 189,
   "id": "cd54b2d2",
   "metadata": {},
   "outputs": [
    {
     "name": "stdout",
     "output_type": "stream",
     "text": [
      "Optimization terminated successfully.\n",
      "         Current function value: 0.085148\n",
      "         Iterations 10\n",
      "                           Logit Regression Results                           \n",
      "==============================================================================\n",
      "Dep. Variable:               Survived   No. Observations:                 1306\n",
      "Model:                          Logit   Df Residuals:                     1302\n",
      "Method:                           MLE   Df Model:                            3\n",
      "Date:                Sat, 12 Apr 2025   Pseudo R-squ.:                  0.8719\n",
      "Time:                        12:12:16   Log-Likelihood:                -111.20\n",
      "converged:                       True   LL-Null:                       -868.10\n",
      "Covariance Type:            nonrobust   LLR p-value:                     0.000\n",
      "===================================================================================\n",
      "                      coef    std err          z      P>|z|      [0.025      0.975]\n",
      "-----------------------------------------------------------------------------------\n",
      "const              -0.3661      0.753     -0.486      0.627      -1.842       1.110\n",
      "is_lifeboat         8.4274      0.661     12.746      0.000       7.132       9.723\n",
      "Sex                -3.9360      0.633     -6.215      0.000      -5.177      -2.695\n",
      "Passenger Class    -0.5365      0.268     -2.002      0.045      -1.062      -0.011\n",
      "===================================================================================\n"
     ]
    }
   ],
   "source": [
    "X = df[['is_lifeboat', 'Sex', 'Passenger Class']].copy()\n",
    "y = df['Survived'].copy()\n",
    "X.Sex = (X.Sex == 'male').astype(int)\n",
    "y = (y == 'Yes').astype(int)\n",
    "X = add_constant(X)\n",
    "model = Logit(y, X)\n",
    "result = model.fit()\n",
    "print(result.summary())"
   ]
  },
  {
   "cell_type": "code",
   "execution_count": 190,
   "id": "7a5e3958",
   "metadata": {},
   "outputs": [
    {
     "name": "stdout",
     "output_type": "stream",
     "text": [
      "Accuracy: 0.97\n",
      "              precision    recall  f1-score   support\n",
      "\n",
      "          No       0.97      0.99      0.98       324\n",
      "         Yes       0.98      0.94      0.96       199\n",
      "\n",
      "    accuracy                           0.97       523\n",
      "   macro avg       0.97      0.97      0.97       523\n",
      "weighted avg       0.97      0.97      0.97       523\n",
      "\n"
     ]
    },
    {
     "data": {
      "image/png": "[encoded data removed]",
      "text/plain": [
       "<Figure size 640x480 with 2 Axes>"
      ]
     },
     "metadata": {},
     "output_type": "display_data"
    }
   ],
   "source": [
    "X = df[['is_lifeboat', 'Sex', 'Passenger Class']]\n",
    "y = df['Survived']\n",
    "X_train, X_test, y_train, y_test = train_test_split(X, y, test_size=0.4, random_state=42, stratify=y)\n",
    "ohe = ['Sex', 'is_lifeboat', 'Passenger Class']\n",
    "preprocessor = ColumnTransformer(\n",
    "    transformers=[\n",
    "        ('ohe', OneHotEncoder(handle_unknown='ignore', drop='first'), ohe)\n",
    "    ],\n",
    "    remainder='passthrough'\n",
    ")\n",
    "pipeline = Pipeline(steps=[\n",
    "    ('preprocessor', preprocessor),\n",
    "    ('model', LogisticRegression(random_state=42))\n",
    "])\n",
    "pipeline.fit(X_train, y_train)\n",
    "y_pred = pipeline.predict(X_test)\n",
    "print(f'Accuracy: {accuracy_score(y_test, y_pred):.2f}')\n",
    "print(classification_report(y_test, y_pred))\n",
    "cm = confusion_matrix(y_test, y_pred)\n",
    "sns.heatmap(cm, annot=True, fmt='d', cmap='Blues', xticklabels=['Not Survived', 'Survived'], yticklabels=['Not Survived', 'Survived']);\n",
    "plt.xlabel('Predicted')\n",
    "plt.ylabel('True')\n",
    "plt.title('Confusion Matrix')\n",
    "plt.show()"
   ]
  },
  {
   "cell_type": "code",
   "execution_count": 191,
   "id": "36be4aa9",
   "metadata": {},
   "outputs": [],
   "source": [
    "# Amazing, logistic regression has the same result as random forest classifier using only 3 features"
   ]
  },
  {
   "cell_type": "markdown",
   "id": "4e7a5004",
   "metadata": {},
   "source": [
    "Frage 1: Was heißt Klassifikationsrate?\n",
    "\n",
    "Frage 2: Kann man doch KNN mit kategorialen Features benutzen?"
   ]
  }
 ],
 "metadata": {
  "kernelspec": {
   "display_name": "statistics",
   "language": "python",
   "name": "python3"
  },
  "language_info": {
   "codemirror_mode": {
    "name": "ipython",
    "version": 3
   },
   "file_extension": ".py",
   "mimetype": "text/x-python",
   "name": "python",
   "nbconvert_exporter": "python",
   "pygments_lexer": "ipython3",
   "version": "3.10.16"
  }
 },
 "nbformat": 4,
 "nbformat_minor": 5
}
