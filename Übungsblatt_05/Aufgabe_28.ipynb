{
 "cells": [
  {
   "cell_type": "markdown",
   "id": "0bca5e8d",
   "metadata": {},
   "source": [
    "Arbeiten Sie weiter mit dem Datensatz tips.csv.\n",
    "\n",
    "a) Bestimmen Sie den Schwerpunkt S der Daten und überprüfen Sie mit Hilfe einer\n",
    "selbst gewählten Geraden durch S die Aussage aus der Aufgabe 24."
   ]
  },
  {
   "cell_type": "code",
   "execution_count": 71,
   "id": "54477111",
   "metadata": {},
   "outputs": [],
   "source": [
    "import numpy as np\n",
    "import matplotlib.pyplot as plt\n",
    "import seaborn as sns\n",
    "import pandas as pd"
   ]
  },
  {
   "cell_type": "code",
   "execution_count": 72,
   "id": "7eb0903f",
   "metadata": {},
   "outputs": [
    {
     "data": {
      "application/vnd.microsoft.datawrangler.viewer.v0+json": {
       "columns": [
        {
         "name": "index",
         "rawType": "int64",
         "type": "integer"
        },
        {
         "name": "total_bill",
         "rawType": "float64",
         "type": "float"
        },
        {
         "name": "tip",
         "rawType": "float64",
         "type": "float"
        }
       ],
       "conversionMethod": "pd.DataFrame",
       "ref": "2fda17ce-73e9-4c27-9663-dbedeab9d892",
       "rows": [
        [
         "0",
         "16.99",
         "1.01"
        ],
        [
         "1",
         "10.34",
         "1.66"
        ],
        [
         "2",
         "21.01",
         "3.5"
        ],
        [
         "3",
         "23.68",
         "3.31"
        ],
        [
         "4",
         "24.59",
         "3.61"
        ]
       ],
       "shape": {
        "columns": 2,
        "rows": 5
       }
      },
      "text/html": [
       "<div>\n",
       "<style scoped>\n",
       "    .dataframe tbody tr th:only-of-type {\n",
       "        vertical-align: middle;\n",
       "    }\n",
       "\n",
       "    .dataframe tbody tr th {\n",
       "        vertical-align: top;\n",
       "    }\n",
       "\n",
       "    .dataframe thead th {\n",
       "        text-align: right;\n",
       "    }\n",
       "</style>\n",
       "<table border=\"1\" class=\"dataframe\">\n",
       "  <thead>\n",
       "    <tr style=\"text-align: right;\">\n",
       "      <th></th>\n",
       "      <th>total_bill</th>\n",
       "      <th>tip</th>\n",
       "    </tr>\n",
       "  </thead>\n",
       "  <tbody>\n",
       "    <tr>\n",
       "      <th>0</th>\n",
       "      <td>16.99</td>\n",
       "      <td>1.01</td>\n",
       "    </tr>\n",
       "    <tr>\n",
       "      <th>1</th>\n",
       "      <td>10.34</td>\n",
       "      <td>1.66</td>\n",
       "    </tr>\n",
       "    <tr>\n",
       "      <th>2</th>\n",
       "      <td>21.01</td>\n",
       "      <td>3.50</td>\n",
       "    </tr>\n",
       "    <tr>\n",
       "      <th>3</th>\n",
       "      <td>23.68</td>\n",
       "      <td>3.31</td>\n",
       "    </tr>\n",
       "    <tr>\n",
       "      <th>4</th>\n",
       "      <td>24.59</td>\n",
       "      <td>3.61</td>\n",
       "    </tr>\n",
       "  </tbody>\n",
       "</table>\n",
       "</div>"
      ],
      "text/plain": [
       "   total_bill   tip\n",
       "0       16.99  1.01\n",
       "1       10.34  1.66\n",
       "2       21.01  3.50\n",
       "3       23.68  3.31\n",
       "4       24.59  3.61"
      ]
     },
     "execution_count": 72,
     "metadata": {},
     "output_type": "execute_result"
    }
   ],
   "source": [
    "df = pd.read_csv('../data/tips.csv', usecols=['total_bill', 'tip'])\n",
    "df.head()"
   ]
  },
  {
   "cell_type": "code",
   "execution_count": 73,
   "id": "cfbb593a",
   "metadata": {},
   "outputs": [
    {
     "data": {
      "text/plain": [
       "(19.78594262295082, 2.99827868852459)"
      ]
     },
     "execution_count": 73,
     "metadata": {},
     "output_type": "execute_result"
    }
   ],
   "source": [
    "centroid_x = df['total_bill'].mean()\n",
    "centroid_y = df['tip'].mean()\n",
    "centroid_x, centroid_y"
   ]
  },
  {
   "cell_type": "markdown",
   "id": "c21e65e9",
   "metadata": {},
   "source": [
    "b) Berechnen Sie die empirische Varianz $s^2_X$ sowie die empirische Kovarianz $s_{XY}$."
   ]
  },
  {
   "cell_type": "code",
   "execution_count": 74,
   "id": "18627fe0",
   "metadata": {},
   "outputs": [
    {
     "name": "stdout",
     "output_type": "stream",
     "text": [
      "cov: 8.32, var_tip: 1.91, var_bill: 79.25\n"
     ]
    }
   ],
   "source": [
    "cov = df.tip.cov(df.total_bill)\n",
    "var_tip = df.tip.var()\n",
    "var_bill = df.total_bill.var()\n",
    "print(f'cov: {cov:.2f}, var_tip: {var_tip:.2f}, var_bill: {var_bill:.2f}')"
   ]
  },
  {
   "cell_type": "markdown",
   "id": "3e202df2",
   "metadata": {},
   "source": [
    "c) Bestimmen Sie mit den ersten beiden Teilen die Koeffizienten b0 und b1 der Regressionsgeraden y = b0 + b1x."
   ]
  },
  {
   "cell_type": "code",
   "execution_count": 75,
   "id": "d7e7f8d5",
   "metadata": {},
   "outputs": [
    {
     "name": "stdout",
     "output_type": "stream",
     "text": [
      "beta_0: 0.92, beta_1: 0.11\n"
     ]
    }
   ],
   "source": [
    "beta_1 = cov / var_bill\n",
    "beta_0 = centroid_y - beta_1 * centroid_x\n",
    "print(f'beta_0: {beta_0:.2f}, beta_1: {beta_1:.2f}')"
   ]
  },
  {
   "cell_type": "code",
   "execution_count": 76,
   "id": "dac8ddae",
   "metadata": {},
   "outputs": [
    {
     "data": {
      "text/plain": [
       "19"
      ]
     },
     "execution_count": 76,
     "metadata": {},
     "output_type": "execute_result"
    }
   ],
   "source": [
    "centroid_x.astype(int)"
   ]
  },
  {
   "cell_type": "code",
   "execution_count": 77,
   "id": "95b4fc78",
   "metadata": {},
   "outputs": [
    {
     "data": {
      "image/png": "[encoded data removed]",
      "text/plain": [
       "<Figure size 1000x600 with 1 Axes>"
      ]
     },
     "metadata": {},
     "output_type": "display_data"
    }
   ],
   "source": [
    "def generate_line(x0, y0, m, x):\n",
    "    b = y0 - m * x0\n",
    "    return m * x + b\n",
    "x = np.random.randint(10, 30, 10)\n",
    "y = generate_line(centroid_x.astype(int), centroid_y.astype(int), 1, x)\n",
    "plt.figure(figsize=(10, 6))\n",
    "sns.set_style('whitegrid')\n",
    "sns.lineplot(x=x, y=y, color='red', label='y = 2x + b')\n",
    "plt.scatter(centroid_x.astype(int), centroid_y.astype(int), color='blue', label='centroid')\n",
    "plt.xlim(10, 30)\n",
    "plt.xticks(np.arange(10, 31, 2))\n",
    "plt.show()"
   ]
  },
  {
   "cell_type": "code",
   "execution_count": 78,
   "id": "ecaf19e0",
   "metadata": {},
   "outputs": [
    {
     "data": {
      "text/plain": [
       "array([-4, -2, -4,  2, 11,  0, -6,  8, -4,  8])"
      ]
     },
     "execution_count": 78,
     "metadata": {},
     "output_type": "execute_result"
    }
   ],
   "source": [
    "y"
   ]
  },
  {
   "cell_type": "code",
   "execution_count": 79,
   "id": "cbb15efe",
   "metadata": {},
   "outputs": [
    {
     "data": {
      "text/plain": [
       "0.9"
      ]
     },
     "execution_count": 79,
     "metadata": {},
     "output_type": "execute_result"
    }
   ],
   "source": [
    "y_bar = y.mean()\n",
    "y_bar"
   ]
  },
  {
   "cell_type": "code",
   "execution_count": 80,
   "id": "5d73e367",
   "metadata": {},
   "outputs": [
    {
     "data": {
      "text/plain": [
       "array([-4.9, -2.9, -4.9,  1.1, 10.1, -0.9, -6.9,  7.1, -4.9,  7.1])"
      ]
     },
     "execution_count": 80,
     "metadata": {},
     "output_type": "execute_result"
    }
   ],
   "source": [
    "y - y_bar"
   ]
  },
  {
   "cell_type": "code",
   "execution_count": 81,
   "id": "1b31f8e4",
   "metadata": {},
   "outputs": [
    {
     "data": {
      "text/plain": [
       "-3.552713678800501e-15"
      ]
     },
     "execution_count": 81,
     "metadata": {},
     "output_type": "execute_result"
    }
   ],
   "source": [
    "(y - y_bar).sum()"
   ]
  }
 ],
 "metadata": {
  "kernelspec": {
   "display_name": "statistics",
   "language": "python",
   "name": "python3"
  },
  "language_info": {
   "codemirror_mode": {
    "name": "ipython",
    "version": 3
   },
   "file_extension": ".py",
   "mimetype": "text/x-python",
   "name": "python",
   "nbconvert_exporter": "python",
   "pygments_lexer": "ipython3",
   "version": "3.10.16"
  }
 },
 "nbformat": 4,
 "nbformat_minor": 5
}
