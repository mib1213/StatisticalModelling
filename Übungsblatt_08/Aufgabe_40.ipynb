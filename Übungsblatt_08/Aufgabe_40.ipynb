{
 "cells": [
  {
   "cell_type": "markdown",
   "id": "86db1d93",
   "metadata": {},
   "source": [
    "Aufgabe 40.\n",
    "\n",
    "Im Datensatz Student Social Media Addiction.csv sind unter anderem die tägliche Nutzungsdauer sozialer Medien in Stunden (Avg_Daily_Usage_Hours), der Addicted_Score sowie die am häufigsten genutzte Plattform (Most_Used_Platform) enthalten."
   ]
  },
  {
   "cell_type": "code",
   "execution_count": 2,
   "id": "9abde94a",
   "metadata": {},
   "outputs": [],
   "source": [
    "import pandas as pd\n",
    "from utils import *\n",
    "from statsmodels.api import OLS, add_constant\n",
    "import seaborn as sns\n",
    "import matplotlib.pyplot as plt"
   ]
  },
  {
   "cell_type": "code",
   "execution_count": 3,
   "id": "a7249f47",
   "metadata": {},
   "outputs": [],
   "source": [
    "sns.set(style=\"whitegrid\")\n",
    "pd.set_option('display.max_columns', 100)\n",
    "healthy_orange = '#EC6602'\n",
    "healthy_orange_50 = '#F9B591'\n",
    "healthy_orange_25 = '#FDDDCB'\n",
    "siemens_petrol = '#009999'\n",
    "siemens_petrol_50 = '#87D2D2'\n",
    "sns.set_palette([healthy_orange, siemens_petrol, healthy_orange_50, healthy_orange_25, siemens_petrol_50])\n",
    "RANDOM_SEED = 42"
   ]
  },
  {
   "cell_type": "code",
   "execution_count": 6,
   "id": "65fb1ae8",
   "metadata": {},
   "outputs": [
    {
     "data": {
      "text/html": [
       "<div>\n",
       "<style scoped>\n",
       "    .dataframe tbody tr th:only-of-type {\n",
       "        vertical-align: middle;\n",
       "    }\n",
       "\n",
       "    .dataframe tbody tr th {\n",
       "        vertical-align: top;\n",
       "    }\n",
       "\n",
       "    .dataframe thead th {\n",
       "        text-align: right;\n",
       "    }\n",
       "</style>\n",
       "<table border=\"1\" class=\"dataframe\">\n",
       "  <thead>\n",
       "    <tr style=\"text-align: right;\">\n",
       "      <th></th>\n",
       "      <th>Student_ID</th>\n",
       "      <th>Age</th>\n",
       "      <th>Gender</th>\n",
       "      <th>Academic_Level</th>\n",
       "      <th>Country</th>\n",
       "      <th>Avg_Daily_Usage_Hours</th>\n",
       "      <th>Most_Used_Platform</th>\n",
       "      <th>Affects_Academic_Performance</th>\n",
       "      <th>Sleep_Hours_Per_Night</th>\n",
       "      <th>Mental_Health_Score</th>\n",
       "      <th>Relationship_Status</th>\n",
       "      <th>Conflicts_Over_Social_Media</th>\n",
       "      <th>Addicted_Score</th>\n",
       "    </tr>\n",
       "  </thead>\n",
       "  <tbody>\n",
       "    <tr>\n",
       "      <th>0</th>\n",
       "      <td>1</td>\n",
       "      <td>19</td>\n",
       "      <td>Female</td>\n",
       "      <td>Undergraduate</td>\n",
       "      <td>Bangladesh</td>\n",
       "      <td>5.2</td>\n",
       "      <td>Instagram</td>\n",
       "      <td>Yes</td>\n",
       "      <td>6.5</td>\n",
       "      <td>6</td>\n",
       "      <td>In Relationship</td>\n",
       "      <td>3</td>\n",
       "      <td>8</td>\n",
       "    </tr>\n",
       "    <tr>\n",
       "      <th>1</th>\n",
       "      <td>2</td>\n",
       "      <td>22</td>\n",
       "      <td>Male</td>\n",
       "      <td>Graduate</td>\n",
       "      <td>India</td>\n",
       "      <td>2.1</td>\n",
       "      <td>Twitter</td>\n",
       "      <td>No</td>\n",
       "      <td>7.5</td>\n",
       "      <td>8</td>\n",
       "      <td>Single</td>\n",
       "      <td>0</td>\n",
       "      <td>3</td>\n",
       "    </tr>\n",
       "    <tr>\n",
       "      <th>2</th>\n",
       "      <td>3</td>\n",
       "      <td>20</td>\n",
       "      <td>Female</td>\n",
       "      <td>Undergraduate</td>\n",
       "      <td>USA</td>\n",
       "      <td>6.0</td>\n",
       "      <td>TikTok</td>\n",
       "      <td>Yes</td>\n",
       "      <td>5.0</td>\n",
       "      <td>5</td>\n",
       "      <td>Complicated</td>\n",
       "      <td>4</td>\n",
       "      <td>9</td>\n",
       "    </tr>\n",
       "    <tr>\n",
       "      <th>3</th>\n",
       "      <td>4</td>\n",
       "      <td>18</td>\n",
       "      <td>Male</td>\n",
       "      <td>High School</td>\n",
       "      <td>UK</td>\n",
       "      <td>3.0</td>\n",
       "      <td>YouTube</td>\n",
       "      <td>No</td>\n",
       "      <td>7.0</td>\n",
       "      <td>7</td>\n",
       "      <td>Single</td>\n",
       "      <td>1</td>\n",
       "      <td>4</td>\n",
       "    </tr>\n",
       "    <tr>\n",
       "      <th>4</th>\n",
       "      <td>5</td>\n",
       "      <td>21</td>\n",
       "      <td>Male</td>\n",
       "      <td>Graduate</td>\n",
       "      <td>Canada</td>\n",
       "      <td>4.5</td>\n",
       "      <td>Facebook</td>\n",
       "      <td>Yes</td>\n",
       "      <td>6.0</td>\n",
       "      <td>6</td>\n",
       "      <td>In Relationship</td>\n",
       "      <td>2</td>\n",
       "      <td>7</td>\n",
       "    </tr>\n",
       "  </tbody>\n",
       "</table>\n",
       "</div>"
      ],
      "text/plain": [
       "   Student_ID  Age  Gender Academic_Level     Country  Avg_Daily_Usage_Hours  \\\n",
       "0           1   19  Female  Undergraduate  Bangladesh                    5.2   \n",
       "1           2   22    Male       Graduate       India                    2.1   \n",
       "2           3   20  Female  Undergraduate         USA                    6.0   \n",
       "3           4   18    Male    High School          UK                    3.0   \n",
       "4           5   21    Male       Graduate      Canada                    4.5   \n",
       "\n",
       "  Most_Used_Platform Affects_Academic_Performance  Sleep_Hours_Per_Night  \\\n",
       "0          Instagram                          Yes                    6.5   \n",
       "1            Twitter                           No                    7.5   \n",
       "2             TikTok                          Yes                    5.0   \n",
       "3            YouTube                           No                    7.0   \n",
       "4           Facebook                          Yes                    6.0   \n",
       "\n",
       "   Mental_Health_Score Relationship_Status  Conflicts_Over_Social_Media  \\\n",
       "0                    6     In Relationship                            3   \n",
       "1                    8              Single                            0   \n",
       "2                    5         Complicated                            4   \n",
       "3                    7              Single                            1   \n",
       "4                    6     In Relationship                            2   \n",
       "\n",
       "   Addicted_Score  \n",
       "0               8  \n",
       "1               3  \n",
       "2               9  \n",
       "3               4  \n",
       "4               7  "
      ]
     },
     "execution_count": 6,
     "metadata": {},
     "output_type": "execute_result"
    }
   ],
   "source": [
    "df = pd.read_csv('../data/Students Social Media Addiction.csv')\n",
    "df.head()"
   ]
  },
  {
   "cell_type": "code",
   "execution_count": 32,
   "id": "d2a677b6",
   "metadata": {},
   "outputs": [
    {
     "data": {
      "text/plain": [
       "count    705.000000\n",
       "mean       4.918723\n",
       "std        1.257395\n",
       "min        1.500000\n",
       "25%        4.100000\n",
       "50%        4.800000\n",
       "75%        5.800000\n",
       "max        8.500000\n",
       "Name: Avg_Daily_Usage_Hours, dtype: float64"
      ]
     },
     "execution_count": 32,
     "metadata": {},
     "output_type": "execute_result"
    }
   ],
   "source": [
    "df.Avg_Daily_Usage_Hours.describe()"
   ]
  },
  {
   "cell_type": "markdown",
   "id": "f00138f6",
   "metadata": {},
   "source": [
    "a) Schätzen Sie ein Regressionsmodell, das den Abhängigkeitsscore durch die tägliche Nutzungsdauer und TikTok als häufigst-genutzte Plattform sowie deren Interaktion erklärt."
   ]
  },
  {
   "cell_type": "code",
   "execution_count": 10,
   "id": "0584429a",
   "metadata": {},
   "outputs": [
    {
     "data": {
      "text/html": [
       "<div>\n",
       "<style scoped>\n",
       "    .dataframe tbody tr th:only-of-type {\n",
       "        vertical-align: middle;\n",
       "    }\n",
       "\n",
       "    .dataframe tbody tr th {\n",
       "        vertical-align: top;\n",
       "    }\n",
       "\n",
       "    .dataframe thead th {\n",
       "        text-align: right;\n",
       "    }\n",
       "</style>\n",
       "<table border=\"1\" class=\"dataframe\">\n",
       "  <thead>\n",
       "    <tr style=\"text-align: right;\">\n",
       "      <th></th>\n",
       "      <th>Avg_Daily_Usage_Hours</th>\n",
       "      <th>Addicted_Score</th>\n",
       "      <th>is_tiktok</th>\n",
       "    </tr>\n",
       "  </thead>\n",
       "  <tbody>\n",
       "    <tr>\n",
       "      <th>0</th>\n",
       "      <td>5.2</td>\n",
       "      <td>8</td>\n",
       "      <td>0</td>\n",
       "    </tr>\n",
       "    <tr>\n",
       "      <th>1</th>\n",
       "      <td>2.1</td>\n",
       "      <td>3</td>\n",
       "      <td>0</td>\n",
       "    </tr>\n",
       "    <tr>\n",
       "      <th>2</th>\n",
       "      <td>6.0</td>\n",
       "      <td>9</td>\n",
       "      <td>1</td>\n",
       "    </tr>\n",
       "    <tr>\n",
       "      <th>3</th>\n",
       "      <td>3.0</td>\n",
       "      <td>4</td>\n",
       "      <td>0</td>\n",
       "    </tr>\n",
       "    <tr>\n",
       "      <th>4</th>\n",
       "      <td>4.5</td>\n",
       "      <td>7</td>\n",
       "      <td>0</td>\n",
       "    </tr>\n",
       "  </tbody>\n",
       "</table>\n",
       "</div>"
      ],
      "text/plain": [
       "   Avg_Daily_Usage_Hours  Addicted_Score  is_tiktok\n",
       "0                    5.2               8          0\n",
       "1                    2.1               3          0\n",
       "2                    6.0               9          1\n",
       "3                    3.0               4          0\n",
       "4                    4.5               7          0"
      ]
     },
     "execution_count": 10,
     "metadata": {},
     "output_type": "execute_result"
    }
   ],
   "source": [
    "df = df[['Avg_Daily_Usage_Hours', 'Most_Used_Platform', 'Addicted_Score']]\n",
    "df['is_tiktok'] = (df.Most_Used_Platform == 'TikTok').astype(int)\n",
    "df = df.drop(columns=['Most_Used_Platform'])\n",
    "df.head()"
   ]
  },
  {
   "cell_type": "code",
   "execution_count": 12,
   "id": "bd7bd09f",
   "metadata": {},
   "outputs": [
    {
     "data": {
      "text/plain": [
       "Addicted_Score\n",
       "2      1\n",
       "3     16\n",
       "4     83\n",
       "5    136\n",
       "6     61\n",
       "7    209\n",
       "8    144\n",
       "9     55\n",
       "Name: count, dtype: int64"
      ]
     },
     "execution_count": 12,
     "metadata": {},
     "output_type": "execute_result"
    }
   ],
   "source": [
    "df.Addicted_Score.value_counts().sort_index()"
   ]
  },
  {
   "cell_type": "code",
   "execution_count": null,
   "id": "4b93b5f1",
   "metadata": {},
   "outputs": [
    {
     "data": {
      "text/plain": [
       "Addicted_Score\n",
       "0      1\n",
       "1     16\n",
       "2     83\n",
       "3    136\n",
       "4     61\n",
       "5    209\n",
       "6    144\n",
       "7     55\n",
       "Name: count, dtype: int64"
      ]
     },
     "execution_count": 13,
     "metadata": {},
     "output_type": "execute_result"
    }
   ],
   "source": [
    "df['Addicted_Score'] = df['Addicted_Score'].replace({2: 0, 3: 1, 4: 2, 5: 3, 6: 4, 7: 5, 8: 6, 9: 7})\n",
    "df['Addicted_Score'].value_counts().sort_index()"
   ]
  },
  {
   "cell_type": "code",
   "execution_count": 14,
   "id": "50644fce",
   "metadata": {},
   "outputs": [
    {
     "data": {
      "text/html": [
       "<div>\n",
       "<style scoped>\n",
       "    .dataframe tbody tr th:only-of-type {\n",
       "        vertical-align: middle;\n",
       "    }\n",
       "\n",
       "    .dataframe tbody tr th {\n",
       "        vertical-align: top;\n",
       "    }\n",
       "\n",
       "    .dataframe thead th {\n",
       "        text-align: right;\n",
       "    }\n",
       "</style>\n",
       "<table border=\"1\" class=\"dataframe\">\n",
       "  <thead>\n",
       "    <tr style=\"text-align: right;\">\n",
       "      <th></th>\n",
       "      <th>Avg_Daily_Usage_Hours</th>\n",
       "      <th>Addicted_Score</th>\n",
       "      <th>is_tiktok</th>\n",
       "      <th>usage_x_tiktok</th>\n",
       "    </tr>\n",
       "  </thead>\n",
       "  <tbody>\n",
       "    <tr>\n",
       "      <th>0</th>\n",
       "      <td>5.2</td>\n",
       "      <td>6</td>\n",
       "      <td>0</td>\n",
       "      <td>0.0</td>\n",
       "    </tr>\n",
       "    <tr>\n",
       "      <th>1</th>\n",
       "      <td>2.1</td>\n",
       "      <td>1</td>\n",
       "      <td>0</td>\n",
       "      <td>0.0</td>\n",
       "    </tr>\n",
       "    <tr>\n",
       "      <th>2</th>\n",
       "      <td>6.0</td>\n",
       "      <td>7</td>\n",
       "      <td>1</td>\n",
       "      <td>6.0</td>\n",
       "    </tr>\n",
       "    <tr>\n",
       "      <th>3</th>\n",
       "      <td>3.0</td>\n",
       "      <td>2</td>\n",
       "      <td>0</td>\n",
       "      <td>0.0</td>\n",
       "    </tr>\n",
       "    <tr>\n",
       "      <th>4</th>\n",
       "      <td>4.5</td>\n",
       "      <td>5</td>\n",
       "      <td>0</td>\n",
       "      <td>0.0</td>\n",
       "    </tr>\n",
       "  </tbody>\n",
       "</table>\n",
       "</div>"
      ],
      "text/plain": [
       "   Avg_Daily_Usage_Hours  Addicted_Score  is_tiktok  usage_x_tiktok\n",
       "0                    5.2               6          0             0.0\n",
       "1                    2.1               1          0             0.0\n",
       "2                    6.0               7          1             6.0\n",
       "3                    3.0               2          0             0.0\n",
       "4                    4.5               5          0             0.0"
      ]
     },
     "execution_count": 14,
     "metadata": {},
     "output_type": "execute_result"
    }
   ],
   "source": [
    "# interaktion zwischen tiktok und daily usage\n",
    "df['usage_x_tiktok'] = df['Avg_Daily_Usage_Hours'] * df['is_tiktok']\n",
    "df.head()"
   ]
  },
  {
   "cell_type": "code",
   "execution_count": 15,
   "id": "6f7059ba",
   "metadata": {},
   "outputs": [
    {
     "name": "stdout",
     "output_type": "stream",
     "text": [
      "                            OLS Regression Results                            \n",
      "==============================================================================\n",
      "Dep. Variable:         Addicted_Score   R-squared:                       0.734\n",
      "Model:                            OLS   Adj. R-squared:                  0.733\n",
      "Method:                 Least Squares   F-statistic:                     646.2\n",
      "Date:                Wed, 14 May 2025   Prob (F-statistic):          2.75e-201\n",
      "Time:                        14:47:30   Log-Likelihood:                -858.17\n",
      "No. Observations:                 705   AIC:                             1724.\n",
      "Df Residuals:                     701   BIC:                             1743.\n",
      "Df Model:                           3                                         \n",
      "Covariance Type:            nonrobust                                         \n",
      "=========================================================================================\n",
      "                            coef    std err          t      P>|t|      [0.025      0.975]\n",
      "-----------------------------------------------------------------------------------------\n",
      "const                    -0.9204      0.135     -6.808      0.000      -1.186      -0.655\n",
      "Avg_Daily_Usage_Hours     1.0585      0.027     38.897      0.000       1.005       1.112\n",
      "is_tiktok                 2.4111      0.368      6.544      0.000       1.688       3.135\n",
      "usage_x_tiktok           -0.3219      0.069     -4.697      0.000      -0.457      -0.187\n",
      "==============================================================================\n",
      "Omnibus:                        0.371   Durbin-Watson:                   1.865\n",
      "Prob(Omnibus):                  0.831   Jarque-Bera (JB):                0.451\n",
      "Skew:                           0.047   Prob(JB):                        0.798\n",
      "Kurtosis:                       2.919   Cond. No.                         65.7\n",
      "==============================================================================\n",
      "\n",
      "Notes:\n",
      "[1] Standard Errors assume that the covariance matrix of the errors is correctly specified.\n"
     ]
    }
   ],
   "source": [
    "X = df[['Avg_Daily_Usage_Hours', 'is_tiktok', 'usage_x_tiktok']]\n",
    "y = df['Addicted_Score']\n",
    "X = add_constant(X)\n",
    "model = OLS(y, X).fit()\n",
    "print(model.summary())"
   ]
  },
  {
   "cell_type": "markdown",
   "id": "115314fc",
   "metadata": {},
   "source": [
    "$$\n",
    "\\hat{y} = -0.9204 + 1.0585 \\times \\text{Nutzungsdauer} + 2.4111 \\times \\text{Tiktok} - 0.3219 \\times \\text{(Tiktok x Nutzungsdauer)}\n",
    "$$\n",
    "\n",
    "$$\n",
    "\\hat{y} = -0.9204 + 2.4111 \\times \\text{Tiktok} + ( 1.0585 - (0.3219 \\times \\text{Tiktok})) \\times \\text{Nutzungsdauer}\n",
    "$$\n",
    "\n",
    "Für Tiktok Nutzer:\n",
    "$$\n",
    "\\hat{y} \\ (\\text{Tiktok}=1) = 1.4907 + 0.7365 \\times \\text{Nutzungsdauer}\n",
    "$$\n",
    "\n",
    "Für **nicht** Tiktok Nutzer:\n",
    "$$\n",
    "\\hat{y} \\ (\\text{Tiktok}=0) = -0.9204 + 1.0585 \\times \\text{Nutzungsdauer}\n",
    "$$\n",
    "\n"
   ]
  },
  {
   "cell_type": "markdown",
   "id": "38672cd0",
   "metadata": {},
   "source": [
    "b) Wie sieht der Zusammenhang zwischen Nutzungsdauer und Addicted Score bei\n",
    "Nicht-TikTok-Nutzer:innen aus?"
   ]
  },
  {
   "cell_type": "markdown",
   "id": "e9b4b355",
   "metadata": {},
   "source": [
    "1.0585"
   ]
  },
  {
   "cell_type": "markdown",
   "id": "cafbd940",
   "metadata": {},
   "source": [
    "c) Wie verändert sich dieser Zusammenhang bei TikTok-Nutzer:innen? Berechnen Sie den erwarteten Addicted Score für eine tägliche Nutzungsdauer von 3 Stunden\n",
    "- bei TikTok-Nutzung,\n",
    "- ohne TikTok-Nutzung.\n"
   ]
  },
  {
   "cell_type": "markdown",
   "id": "4afd822e",
   "metadata": {},
   "source": [
    "Tiktok Nutzer haben 0.32 Steigung weniger als **nicht** Tiktok Nutzer. "
   ]
  },
  {
   "cell_type": "code",
   "execution_count": 24,
   "id": "0bb670e4",
   "metadata": {},
   "outputs": [
    {
     "data": {
      "text/plain": [
       "array([3.70049716])"
      ]
     },
     "execution_count": 24,
     "metadata": {},
     "output_type": "execute_result"
    }
   ],
   "source": [
    "tiktok_user = model.predict([1, 3, 1, 3])\n",
    "tiktok_user"
   ]
  },
  {
   "cell_type": "code",
   "execution_count": 25,
   "id": "3a22f04d",
   "metadata": {},
   "outputs": [
    {
     "data": {
      "text/plain": [
       "array([2.25516156])"
      ]
     },
     "execution_count": 25,
     "metadata": {},
     "output_type": "execute_result"
    }
   ],
   "source": [
    "not_tiktok_user = model.predict([1, 3, 0, 0])\n",
    "not_tiktok_user"
   ]
  },
  {
   "cell_type": "markdown",
   "id": "da521fc3",
   "metadata": {},
   "source": [
    "d) Interpretieren Sie den Interaktionsterm sowohl statistisch als auch inhaltlich."
   ]
  },
  {
   "cell_type": "markdown",
   "id": "d0ab849f",
   "metadata": {},
   "source": [
    "Bei Tiktok Nutzer, die Steigung von Nutzungsdauer -0.32 kleiner ist als bei **nicht** Tiktok Nutzer.\n",
    "Inhaltlich heißt es dass sie 0.32 Einheit pro Stunde weniger Süchtig werden als nicht Tiktok Nutzern."
   ]
  },
  {
   "cell_type": "code",
   "execution_count": 39,
   "id": "4fce0e0b",
   "metadata": {},
   "outputs": [
    {
     "data": {
      "image/png": "[encoded data removed]",
      "text/plain": [
       "<Figure size 1000x600 with 1 Axes>"
      ]
     },
     "metadata": {},
     "output_type": "display_data"
    }
   ],
   "source": [
    "# plot a line with b0=1.49 and b1=0.73\n",
    "def generate_line(x, b0, b1):\n",
    "    return b0 + b1 * x\n",
    "x = np.linspace(-2, 10, 100)\n",
    "tiktok_user = generate_line(x, 1.4907, 0.7365)\n",
    "nicht_tiktok_user = generate_line(x, -0.9204, 1.0585)\n",
    "plt.figure(figsize=(10, 6))\n",
    "plt.plot(x, tiktok_user, label='TikTok User', color=healthy_orange)\n",
    "plt.plot(x, nicht_tiktok_user, label='Non TikTok User', color=siemens_petrol)\n",
    "plt.axvline(x=0, color='grey', linestyle='--')\n",
    "plt.axhline(y=0, color='grey', linestyle='--')\n",
    "plt.title('Addicted Score vs. Avg Daily Usage Hours')\n",
    "plt.xlabel('Avg Daily Usage Hours')\n",
    "plt.ylabel('Addicted Score')\n",
    "plt.legend()\n",
    "plt.show()"
   ]
  },
  {
   "cell_type": "markdown",
   "id": "24734e88",
   "metadata": {},
   "source": [
    "f) Warum ist es sinnvoll, Interaktionsterme in Regressionsmodellen zu berücksichtigen? Erläutern Sie anhand dieses Beispiels oder eines eigenen."
   ]
  },
  {
   "cell_type": "markdown",
   "id": "0e459d11",
   "metadata": {},
   "source": [
    "Die Interaktionsterme werden verwendet, um die Zusammenhänge zwischen den Prädiktoren zu berücksichtigen. In diesem Beispiel hängt die Nutzungsdauer mit der Plattform zusammen. Deshalb unterscheidet sich die Steigung der Nutzungsdauer zwischen TikTok Nutzern und **nicht** TikTok Nutzern. Bei qualitativen Variablen ist das leichter zu verstehen. Bei quantitativen Variablen bedeutet das, dass die Steigung eines Merkmals davon abhängt, wie stark ein anderes Merkmal zunimmt oder abnimmt."
   ]
  }
 ],
 "metadata": {
  "kernelspec": {
   "display_name": "statistics",
   "language": "python",
   "name": "python3"
  },
  "language_info": {
   "codemirror_mode": {
    "name": "ipython",
    "version": 3
   },
   "file_extension": ".py",
   "mimetype": "text/x-python",
   "name": "python",
   "nbconvert_exporter": "python",
   "pygments_lexer": "ipython3",
   "version": "3.10.16"
  }
 },
 "nbformat": 4,
 "nbformat_minor": 5
}
