{
 "cells": [
  {
   "cell_type": "markdown",
   "id": "cc93c7d4",
   "metadata": {},
   "source": [
    "Aufgabe 38.\n",
    "\n",
    "Der Datensatz Zement enthält Festigkeitswerte (Y) für Zement von drei Zuliefern, der mit einem Additiv versetzt wurde. Zusätzlich wurde die Feuchtigkeit des Zements gemessen."
   ]
  },
  {
   "cell_type": "code",
   "execution_count": 15,
   "id": "969178d3",
   "metadata": {},
   "outputs": [],
   "source": [
    "import pandas as pd\n",
    "from utils import *\n",
    "from statsmodels.api import OLS, add_constant\n",
    "import seaborn as sns\n",
    "import matplotlib.pyplot as plt"
   ]
  },
  {
   "cell_type": "code",
   "execution_count": 16,
   "id": "544e25a6",
   "metadata": {},
   "outputs": [],
   "source": [
    "sns.set(style=\"whitegrid\")\n",
    "pd.set_option('display.max_columns', 100)\n",
    "healthy_orange = '#EC6602'\n",
    "healthy_orange_50 = '#F9B591'\n",
    "healthy_orange_25 = '#FDDDCB'\n",
    "siemens_petrol = '#009999'\n",
    "siemens_petrol_50 = '#87D2D2'\n",
    "sns.set_palette([healthy_orange, siemens_petrol, healthy_orange_50, healthy_orange_25, siemens_petrol_50])\n",
    "RANDOM_SEED = 42"
   ]
  },
  {
   "cell_type": "code",
   "execution_count": 17,
   "id": "f1ee88ad",
   "metadata": {},
   "outputs": [
    {
     "data": {
      "text/html": [
       "<div>\n",
       "<style scoped>\n",
       "    .dataframe tbody tr th:only-of-type {\n",
       "        vertical-align: middle;\n",
       "    }\n",
       "\n",
       "    .dataframe tbody tr th {\n",
       "        vertical-align: top;\n",
       "    }\n",
       "\n",
       "    .dataframe thead th {\n",
       "        text-align: right;\n",
       "    }\n",
       "</style>\n",
       "<table border=\"1\" class=\"dataframe\">\n",
       "  <thead>\n",
       "    <tr style=\"text-align: right;\">\n",
       "      <th></th>\n",
       "      <th>Festigkeit</th>\n",
       "      <th>Marke</th>\n",
       "      <th>Additiv</th>\n",
       "      <th>Feuchtigkeit</th>\n",
       "    </tr>\n",
       "  </thead>\n",
       "  <tbody>\n",
       "    <tr>\n",
       "      <th>0</th>\n",
       "      <td>32.6</td>\n",
       "      <td>Grauert</td>\n",
       "      <td>Verstärker</td>\n",
       "      <td>56.4</td>\n",
       "    </tr>\n",
       "    <tr>\n",
       "      <th>1</th>\n",
       "      <td>31.5</td>\n",
       "      <td>Grauert</td>\n",
       "      <td>Verstärker</td>\n",
       "      <td>44.1</td>\n",
       "    </tr>\n",
       "    <tr>\n",
       "      <th>2</th>\n",
       "      <td>30.0</td>\n",
       "      <td>Grauert</td>\n",
       "      <td>Verstärker</td>\n",
       "      <td>50.0</td>\n",
       "    </tr>\n",
       "    <tr>\n",
       "      <th>3</th>\n",
       "      <td>29.8</td>\n",
       "      <td>Grauert</td>\n",
       "      <td>Standard</td>\n",
       "      <td>52.5</td>\n",
       "    </tr>\n",
       "    <tr>\n",
       "      <th>4</th>\n",
       "      <td>29.7</td>\n",
       "      <td>Grauert</td>\n",
       "      <td>Verstärker</td>\n",
       "      <td>46.7</td>\n",
       "    </tr>\n",
       "  </tbody>\n",
       "</table>\n",
       "</div>"
      ],
      "text/plain": [
       "   Festigkeit    Marke     Additiv  Feuchtigkeit\n",
       "0        32.6  Grauert  Verstärker          56.4\n",
       "1        31.5  Grauert  Verstärker          44.1\n",
       "2        30.0  Grauert  Verstärker          50.0\n",
       "3        29.8  Grauert    Standard          52.5\n",
       "4        29.7  Grauert  Verstärker          46.7"
      ]
     },
     "execution_count": 17,
     "metadata": {},
     "output_type": "execute_result"
    }
   ],
   "source": [
    "df = pd.read_csv('../data/zement.txt')\n",
    "df.head()"
   ]
  },
  {
   "cell_type": "code",
   "execution_count": 18,
   "id": "3cb4f73e",
   "metadata": {},
   "outputs": [
    {
     "data": {
      "text/html": [
       "<div>\n",
       "<style scoped>\n",
       "    .dataframe tbody tr th:only-of-type {\n",
       "        vertical-align: middle;\n",
       "    }\n",
       "\n",
       "    .dataframe tbody tr th {\n",
       "        vertical-align: top;\n",
       "    }\n",
       "\n",
       "    .dataframe thead th {\n",
       "        text-align: right;\n",
       "    }\n",
       "</style>\n",
       "<table border=\"1\" class=\"dataframe\">\n",
       "  <thead>\n",
       "    <tr style=\"text-align: right;\">\n",
       "      <th></th>\n",
       "      <th>Festigkeit</th>\n",
       "      <th>Feuchtigkeit</th>\n",
       "      <th>Marke_Grauert</th>\n",
       "      <th>Marke_Konsort</th>\n",
       "      <th>Marke_Zemix</th>\n",
       "      <th>Additiv_Standard</th>\n",
       "      <th>Additiv_Verstärker</th>\n",
       "    </tr>\n",
       "  </thead>\n",
       "  <tbody>\n",
       "    <tr>\n",
       "      <th>0</th>\n",
       "      <td>32.6</td>\n",
       "      <td>56.4</td>\n",
       "      <td>1</td>\n",
       "      <td>0</td>\n",
       "      <td>0</td>\n",
       "      <td>0</td>\n",
       "      <td>1</td>\n",
       "    </tr>\n",
       "    <tr>\n",
       "      <th>1</th>\n",
       "      <td>31.5</td>\n",
       "      <td>44.1</td>\n",
       "      <td>1</td>\n",
       "      <td>0</td>\n",
       "      <td>0</td>\n",
       "      <td>0</td>\n",
       "      <td>1</td>\n",
       "    </tr>\n",
       "    <tr>\n",
       "      <th>2</th>\n",
       "      <td>30.0</td>\n",
       "      <td>50.0</td>\n",
       "      <td>1</td>\n",
       "      <td>0</td>\n",
       "      <td>0</td>\n",
       "      <td>0</td>\n",
       "      <td>1</td>\n",
       "    </tr>\n",
       "    <tr>\n",
       "      <th>3</th>\n",
       "      <td>29.8</td>\n",
       "      <td>52.5</td>\n",
       "      <td>1</td>\n",
       "      <td>0</td>\n",
       "      <td>0</td>\n",
       "      <td>1</td>\n",
       "      <td>0</td>\n",
       "    </tr>\n",
       "    <tr>\n",
       "      <th>4</th>\n",
       "      <td>29.7</td>\n",
       "      <td>46.7</td>\n",
       "      <td>1</td>\n",
       "      <td>0</td>\n",
       "      <td>0</td>\n",
       "      <td>0</td>\n",
       "      <td>1</td>\n",
       "    </tr>\n",
       "  </tbody>\n",
       "</table>\n",
       "</div>"
      ],
      "text/plain": [
       "   Festigkeit  Feuchtigkeit  Marke_Grauert  Marke_Konsort  Marke_Zemix  \\\n",
       "0        32.6          56.4              1              0            0   \n",
       "1        31.5          44.1              1              0            0   \n",
       "2        30.0          50.0              1              0            0   \n",
       "3        29.8          52.5              1              0            0   \n",
       "4        29.7          46.7              1              0            0   \n",
       "\n",
       "   Additiv_Standard  Additiv_Verstärker  \n",
       "0                 0                   1  \n",
       "1                 0                   1  \n",
       "2                 0                   1  \n",
       "3                 1                   0  \n",
       "4                 0                   1  "
      ]
     },
     "execution_count": 18,
     "metadata": {},
     "output_type": "execute_result"
    }
   ],
   "source": [
    "df = pd.get_dummies(df, columns=['Marke', 'Additiv'], dtype=int)\n",
    "df.head()"
   ]
  },
  {
   "cell_type": "code",
   "execution_count": 19,
   "id": "03c1e35a",
   "metadata": {},
   "outputs": [],
   "source": [
    "df = df.drop(columns=['Marke_Zemix', 'Additiv_Verstärker'])"
   ]
  },
  {
   "cell_type": "markdown",
   "id": "3bc5cacc",
   "metadata": {},
   "source": [
    "## Base Modell"
   ]
  },
  {
   "cell_type": "code",
   "execution_count": 20,
   "id": "fa12ed5e",
   "metadata": {},
   "outputs": [
    {
     "name": "stdout",
     "output_type": "stream",
     "text": [
      "                            OLS Regression Results                            \n",
      "==============================================================================\n",
      "Dep. Variable:             Festigkeit   R-squared:                       0.757\n",
      "Model:                            OLS   Adj. R-squared:                  0.718\n",
      "Method:                 Least Squares   F-statistic:                     19.48\n",
      "Date:                Sun, 08 Jun 2025   Prob (F-statistic):           2.17e-07\n",
      "Time:                        01:03:09   Log-Likelihood:                -57.794\n",
      "No. Observations:                  30   AIC:                             125.6\n",
      "Df Residuals:                      25   BIC:                             132.6\n",
      "Df Model:                           4                                         \n",
      "Covariance Type:            nonrobust                                         \n",
      "====================================================================================\n",
      "                       coef    std err          t      P>|t|      [0.025      0.975]\n",
      "------------------------------------------------------------------------------------\n",
      "const               41.6897      2.960     14.087      0.000      35.594      47.785\n",
      "Feuchtigkeit        -0.3036      0.063     -4.838      0.000      -0.433      -0.174\n",
      "Marke_Grauert        3.4545      0.858      4.026      0.000       1.687       5.221\n",
      "Marke_Konsort       -0.7497      0.834     -0.899      0.377      -2.467       0.968\n",
      "Additiv_Standard    -2.2125      0.742     -2.981      0.006      -3.741      -0.684\n",
      "==============================================================================\n",
      "Omnibus:                        3.095   Durbin-Watson:                   1.457\n",
      "Prob(Omnibus):                  0.213   Jarque-Bera (JB):                1.843\n",
      "Skew:                           0.570   Prob(JB):                        0.398\n",
      "Kurtosis:                       3.420   Cond. No.                         460.\n",
      "==============================================================================\n",
      "\n",
      "Notes:\n",
      "[1] Standard Errors assume that the covariance matrix of the errors is correctly specified.\n"
     ]
    }
   ],
   "source": [
    "X = df.drop(columns=['Festigkeit'])\n",
    "y = df['Festigkeit']\n",
    "X = add_constant(X)\n",
    "model = OLS(y, X).fit()\n",
    "print(model.summary())"
   ]
  },
  {
   "cell_type": "markdown",
   "id": "4a7b847e",
   "metadata": {},
   "source": [
    "a) Passen Sie ein lineares Regressionsmodell mit allen Haupteffekten, Wechselwirwirkungen und quadratischen Effekten an."
   ]
  },
  {
   "cell_type": "code",
   "execution_count": 21,
   "id": "2ba354fc",
   "metadata": {},
   "outputs": [
    {
     "data": {
      "text/html": [
       "<div>\n",
       "<style scoped>\n",
       "    .dataframe tbody tr th:only-of-type {\n",
       "        vertical-align: middle;\n",
       "    }\n",
       "\n",
       "    .dataframe tbody tr th {\n",
       "        vertical-align: top;\n",
       "    }\n",
       "\n",
       "    .dataframe thead th {\n",
       "        text-align: right;\n",
       "    }\n",
       "</style>\n",
       "<table border=\"1\" class=\"dataframe\">\n",
       "  <thead>\n",
       "    <tr style=\"text-align: right;\">\n",
       "      <th></th>\n",
       "      <th>Festigkeit</th>\n",
       "      <th>Feuchtigkeit</th>\n",
       "      <th>Marke_Grauert</th>\n",
       "      <th>Marke_Konsort</th>\n",
       "      <th>Additiv_Standard</th>\n",
       "      <th>Feuchtigkeit_squared</th>\n",
       "      <th>Konsort_x_Feuchtigkeit</th>\n",
       "      <th>Grauert_x_Feuchtigkeit</th>\n",
       "      <th>Standard_x_Feuchtigkeit</th>\n",
       "      <th>Konsort_x_Standard</th>\n",
       "      <th>Grauert_x_Standard</th>\n",
       "    </tr>\n",
       "  </thead>\n",
       "  <tbody>\n",
       "    <tr>\n",
       "      <th>0</th>\n",
       "      <td>32.6</td>\n",
       "      <td>56.4</td>\n",
       "      <td>1</td>\n",
       "      <td>0</td>\n",
       "      <td>0</td>\n",
       "      <td>3180.96</td>\n",
       "      <td>0.0</td>\n",
       "      <td>56.4</td>\n",
       "      <td>0.0</td>\n",
       "      <td>0</td>\n",
       "      <td>0</td>\n",
       "    </tr>\n",
       "    <tr>\n",
       "      <th>1</th>\n",
       "      <td>31.5</td>\n",
       "      <td>44.1</td>\n",
       "      <td>1</td>\n",
       "      <td>0</td>\n",
       "      <td>0</td>\n",
       "      <td>1944.81</td>\n",
       "      <td>0.0</td>\n",
       "      <td>44.1</td>\n",
       "      <td>0.0</td>\n",
       "      <td>0</td>\n",
       "      <td>0</td>\n",
       "    </tr>\n",
       "    <tr>\n",
       "      <th>2</th>\n",
       "      <td>30.0</td>\n",
       "      <td>50.0</td>\n",
       "      <td>1</td>\n",
       "      <td>0</td>\n",
       "      <td>0</td>\n",
       "      <td>2500.00</td>\n",
       "      <td>0.0</td>\n",
       "      <td>50.0</td>\n",
       "      <td>0.0</td>\n",
       "      <td>0</td>\n",
       "      <td>0</td>\n",
       "    </tr>\n",
       "    <tr>\n",
       "      <th>3</th>\n",
       "      <td>29.8</td>\n",
       "      <td>52.5</td>\n",
       "      <td>1</td>\n",
       "      <td>0</td>\n",
       "      <td>1</td>\n",
       "      <td>2756.25</td>\n",
       "      <td>0.0</td>\n",
       "      <td>52.5</td>\n",
       "      <td>52.5</td>\n",
       "      <td>0</td>\n",
       "      <td>1</td>\n",
       "    </tr>\n",
       "    <tr>\n",
       "      <th>4</th>\n",
       "      <td>29.7</td>\n",
       "      <td>46.7</td>\n",
       "      <td>1</td>\n",
       "      <td>0</td>\n",
       "      <td>0</td>\n",
       "      <td>2180.89</td>\n",
       "      <td>0.0</td>\n",
       "      <td>46.7</td>\n",
       "      <td>0.0</td>\n",
       "      <td>0</td>\n",
       "      <td>0</td>\n",
       "    </tr>\n",
       "  </tbody>\n",
       "</table>\n",
       "</div>"
      ],
      "text/plain": [
       "   Festigkeit  Feuchtigkeit  Marke_Grauert  Marke_Konsort  Additiv_Standard  \\\n",
       "0        32.6          56.4              1              0                 0   \n",
       "1        31.5          44.1              1              0                 0   \n",
       "2        30.0          50.0              1              0                 0   \n",
       "3        29.8          52.5              1              0                 1   \n",
       "4        29.7          46.7              1              0                 0   \n",
       "\n",
       "   Feuchtigkeit_squared  Konsort_x_Feuchtigkeit  Grauert_x_Feuchtigkeit  \\\n",
       "0               3180.96                     0.0                    56.4   \n",
       "1               1944.81                     0.0                    44.1   \n",
       "2               2500.00                     0.0                    50.0   \n",
       "3               2756.25                     0.0                    52.5   \n",
       "4               2180.89                     0.0                    46.7   \n",
       "\n",
       "   Standard_x_Feuchtigkeit  Konsort_x_Standard  Grauert_x_Standard  \n",
       "0                      0.0                   0                   0  \n",
       "1                      0.0                   0                   0  \n",
       "2                      0.0                   0                   0  \n",
       "3                     52.5                   0                   1  \n",
       "4                      0.0                   0                   0  "
      ]
     },
     "execution_count": 21,
     "metadata": {},
     "output_type": "execute_result"
    }
   ],
   "source": [
    "# Polynomiale Features\n",
    "df['Feuchtigkeit_squared'] = df['Feuchtigkeit'] ** 2\n",
    "\n",
    "# Wechselwirkungen\n",
    "df['Konsort_x_Feuchtigkeit'] = df['Marke_Konsort'] * df['Feuchtigkeit']\n",
    "df['Grauert_x_Feuchtigkeit'] = df['Marke_Grauert'] * df['Feuchtigkeit']\n",
    "df['Standard_x_Feuchtigkeit'] = df['Additiv_Standard'] * df['Feuchtigkeit']\n",
    "df['Konsort_x_Standard'] = df['Marke_Konsort'] * df['Additiv_Standard']\n",
    "df['Grauert_x_Standard'] = df['Marke_Grauert'] * df['Additiv_Standard']\n",
    "df.head()"
   ]
  },
  {
   "cell_type": "code",
   "execution_count": 22,
   "id": "47ab6586",
   "metadata": {},
   "outputs": [
    {
     "name": "stdout",
     "output_type": "stream",
     "text": [
      "                            OLS Regression Results                            \n",
      "==============================================================================\n",
      "Dep. Variable:             Festigkeit   R-squared:                       0.821\n",
      "Model:                            OLS   Adj. R-squared:                  0.726\n",
      "Method:                 Least Squares   F-statistic:                     8.687\n",
      "Date:                Sun, 08 Jun 2025   Prob (F-statistic):           3.43e-05\n",
      "Time:                        01:03:09   Log-Likelihood:                -53.256\n",
      "No. Observations:                  30   AIC:                             128.5\n",
      "Df Residuals:                      19   BIC:                             143.9\n",
      "Df Model:                          10                                         \n",
      "Covariance Type:            nonrobust                                         \n",
      "===========================================================================================\n",
      "                              coef    std err          t      P>|t|      [0.025      0.975]\n",
      "-------------------------------------------------------------------------------------------\n",
      "const                      21.2879     25.773      0.826      0.419     -32.656      75.232\n",
      "Feuchtigkeit                0.5676      1.131      0.502      0.621      -1.799       2.934\n",
      "Marke_Grauert             -12.0832     11.522     -1.049      0.307     -36.198      12.032\n",
      "Marke_Konsort              -8.9277      8.458     -1.056      0.304     -26.631       8.775\n",
      "Additiv_Standard            1.6790     10.461      0.160      0.874     -20.217      23.575\n",
      "Feuchtigkeit_squared       -0.0095      0.013     -0.753      0.461      -0.036       0.017\n",
      "Konsort_x_Feuchtigkeit      0.1746      0.177      0.987      0.336      -0.196       0.545\n",
      "Grauert_x_Feuchtigkeit      0.3398      0.241      1.408      0.175      -0.165       0.845\n",
      "Standard_x_Feuchtigkeit    -0.0429      0.227     -0.189      0.852      -0.518       0.433\n",
      "Konsort_x_Standard         -1.2884      2.015     -0.640      0.530      -5.505       2.928\n",
      "Grauert_x_Standard         -3.8405      2.393     -1.605      0.125      -8.849       1.168\n",
      "==============================================================================\n",
      "Omnibus:                        2.045   Durbin-Watson:                   1.639\n",
      "Prob(Omnibus):                  0.360   Jarque-Bera (JB):                1.320\n",
      "Skew:                           0.513   Prob(JB):                        0.517\n",
      "Kurtosis:                       3.061   Cond. No.                     2.33e+05\n",
      "==============================================================================\n",
      "\n",
      "Notes:\n",
      "[1] Standard Errors assume that the covariance matrix of the errors is correctly specified.\n",
      "[2] The condition number is large, 2.33e+05. This might indicate that there are\n",
      "strong multicollinearity or other numerical problems.\n"
     ]
    }
   ],
   "source": [
    "x = df.drop(columns=['Festigkeit'])\n",
    "y = df['Festigkeit']\n",
    "x = add_constant(x)\n",
    "model = OLS(y, x).fit()\n",
    "print(model.summary())"
   ]
  },
  {
   "cell_type": "markdown",
   "id": "3c42d151",
   "metadata": {},
   "source": [
    "Ich nehme jetzt `Standard_x_Feuchtigkeit` raus, weil es P-Wert der großten P-Wert hat."
   ]
  },
  {
   "cell_type": "code",
   "execution_count": 23,
   "id": "c270b6d7",
   "metadata": {},
   "outputs": [
    {
     "name": "stdout",
     "output_type": "stream",
     "text": [
      "                            OLS Regression Results                            \n",
      "==============================================================================\n",
      "Dep. Variable:             Festigkeit   R-squared:                       0.820\n",
      "Model:                            OLS   Adj. R-squared:                  0.739\n",
      "Method:                 Least Squares   F-statistic:                     10.14\n",
      "Date:                Sun, 08 Jun 2025   Prob (F-statistic):           1.04e-05\n",
      "Time:                        01:03:09   Log-Likelihood:                -53.284\n",
      "No. Observations:                  30   AIC:                             126.6\n",
      "Df Residuals:                      20   BIC:                             140.6\n",
      "Df Model:                           9                                         \n",
      "Covariance Type:            nonrobust                                         \n",
      "==========================================================================================\n",
      "                             coef    std err          t      P>|t|      [0.025      0.975]\n",
      "------------------------------------------------------------------------------------------\n",
      "const                     18.4623     20.476      0.902      0.378     -24.249      61.174\n",
      "Feuchtigkeit               0.7124      0.811      0.878      0.390      -0.980       2.404\n",
      "Marke_Grauert            -13.4524      8.737     -1.540      0.139     -31.678       4.773\n",
      "Marke_Konsort             -9.4086      7.869     -1.196      0.246     -25.823       7.006\n",
      "Additiv_Standard          -0.2821      1.253     -0.225      0.824      -2.896       2.331\n",
      "Feuchtigkeit_squared      -0.0113      0.008     -1.406      0.175      -0.028       0.005\n",
      "Konsort_x_Feuchtigkeit     0.1862      0.162      1.151      0.263      -0.151       0.524\n",
      "Grauert_x_Feuchtigkeit     0.3699      0.177      2.090      0.050       0.001       0.739\n",
      "Konsort_x_Standard        -1.4609      1.752     -0.834      0.414      -5.115       2.193\n",
      "Grauert_x_Standard        -4.1318      1.785     -2.315      0.031      -7.855      -0.408\n",
      "==============================================================================\n",
      "Omnibus:                        1.812   Durbin-Watson:                   1.623\n",
      "Prob(Omnibus):                  0.404   Jarque-Bera (JB):                1.164\n",
      "Skew:                           0.482   Prob(JB):                        0.559\n",
      "Kurtosis:                       3.030   Cond. No.                     1.79e+05\n",
      "==============================================================================\n",
      "\n",
      "Notes:\n",
      "[1] Standard Errors assume that the covariance matrix of the errors is correctly specified.\n",
      "[2] The condition number is large, 1.79e+05. This might indicate that there are\n",
      "strong multicollinearity or other numerical problems.\n"
     ]
    }
   ],
   "source": [
    "x = df.drop(columns=['Festigkeit', 'Standard_x_Feuchtigkeit'])\n",
    "y = df['Festigkeit']\n",
    "x = add_constant(x)\n",
    "model = OLS(y, x).fit()\n",
    "print(model.summary())"
   ]
  },
  {
   "cell_type": "markdown",
   "id": "f511f2d9",
   "metadata": {},
   "source": [
    "Jetzt nehmen ich `Konsort_x_Standard` raus."
   ]
  },
  {
   "cell_type": "code",
   "execution_count": 24,
   "id": "f152f49a",
   "metadata": {},
   "outputs": [
    {
     "name": "stdout",
     "output_type": "stream",
     "text": [
      "                            OLS Regression Results                            \n",
      "==============================================================================\n",
      "Dep. Variable:             Festigkeit   R-squared:                       0.814\n",
      "Model:                            OLS   Adj. R-squared:                  0.743\n",
      "Method:                 Least Squares   F-statistic:                     11.48\n",
      "Date:                Sun, 08 Jun 2025   Prob (F-statistic):           3.97e-06\n",
      "Time:                        01:03:09   Log-Likelihood:                -53.797\n",
      "No. Observations:                  30   AIC:                             125.6\n",
      "Df Residuals:                      21   BIC:                             138.2\n",
      "Df Model:                           8                                         \n",
      "Covariance Type:            nonrobust                                         \n",
      "==========================================================================================\n",
      "                             coef    std err          t      P>|t|      [0.025      0.975]\n",
      "------------------------------------------------------------------------------------------\n",
      "const                     18.3752     20.326      0.904      0.376     -23.896      60.646\n",
      "Feuchtigkeit               0.7051      0.805      0.876      0.391      -0.969       2.380\n",
      "Marke_Grauert            -12.3009      8.565     -1.436      0.166     -30.112       5.510\n",
      "Marke_Konsort             -7.1302      7.326     -0.973      0.341     -22.365       8.104\n",
      "Additiv_Standard          -1.0189      0.882     -1.155      0.261      -2.853       0.815\n",
      "Feuchtigkeit_squared      -0.0110      0.008     -1.376      0.183      -0.028       0.006\n",
      "Konsort_x_Feuchtigkeit     0.1264      0.144      0.878      0.390      -0.173       0.426\n",
      "Grauert_x_Feuchtigkeit     0.3389      0.172      1.973      0.062      -0.018       0.696\n",
      "Grauert_x_Standard        -3.3889      1.536     -2.207      0.039      -6.583      -0.195\n",
      "==============================================================================\n",
      "Omnibus:                        1.740   Durbin-Watson:                   1.581\n",
      "Prob(Omnibus):                  0.419   Jarque-Bera (JB):                1.203\n",
      "Skew:                           0.490   Prob(JB):                        0.548\n",
      "Kurtosis:                       2.945   Cond. No.                     1.79e+05\n",
      "==============================================================================\n",
      "\n",
      "Notes:\n",
      "[1] Standard Errors assume that the covariance matrix of the errors is correctly specified.\n",
      "[2] The condition number is large, 1.79e+05. This might indicate that there are\n",
      "strong multicollinearity or other numerical problems.\n"
     ]
    }
   ],
   "source": [
    "x = df.drop(columns=['Festigkeit', 'Standard_x_Feuchtigkeit', 'Konsort_x_Standard'])\n",
    "y = df['Festigkeit']\n",
    "x = add_constant(x)\n",
    "model = OLS(y, x).fit()\n",
    "print(model.summary())"
   ]
  },
  {
   "cell_type": "code",
   "execution_count": 25,
   "id": "be48cdb1",
   "metadata": {},
   "outputs": [
    {
     "name": "stdout",
     "output_type": "stream",
     "text": [
      "                            OLS Regression Results                            \n",
      "==============================================================================\n",
      "Dep. Variable:             Festigkeit   R-squared:                       0.814\n",
      "Model:                            OLS   Adj. R-squared:                  0.743\n",
      "Method:                 Least Squares   F-statistic:                     11.48\n",
      "Date:                Sun, 08 Jun 2025   Prob (F-statistic):           3.97e-06\n",
      "Time:                        01:03:09   Log-Likelihood:                -53.797\n",
      "No. Observations:                  30   AIC:                             125.6\n",
      "Df Residuals:                      21   BIC:                             138.2\n",
      "Df Model:                           8                                         \n",
      "Covariance Type:            nonrobust                                         \n",
      "==========================================================================================\n",
      "                             coef    std err          t      P>|t|      [0.025      0.975]\n",
      "------------------------------------------------------------------------------------------\n",
      "const                     18.3752     20.326      0.904      0.376     -23.896      60.646\n",
      "Feuchtigkeit               0.7051      0.805      0.876      0.391      -0.969       2.380\n",
      "Marke_Grauert            -12.3009      8.565     -1.436      0.166     -30.112       5.510\n",
      "Marke_Konsort             -7.1302      7.326     -0.973      0.341     -22.365       8.104\n",
      "Additiv_Standard          -1.0189      0.882     -1.155      0.261      -2.853       0.815\n",
      "Feuchtigkeit_squared      -0.0110      0.008     -1.376      0.183      -0.028       0.006\n",
      "Konsort_x_Feuchtigkeit     0.1264      0.144      0.878      0.390      -0.173       0.426\n",
      "Grauert_x_Feuchtigkeit     0.3389      0.172      1.973      0.062      -0.018       0.696\n",
      "Grauert_x_Standard        -3.3889      1.536     -2.207      0.039      -6.583      -0.195\n",
      "==============================================================================\n",
      "Omnibus:                        1.740   Durbin-Watson:                   1.581\n",
      "Prob(Omnibus):                  0.419   Jarque-Bera (JB):                1.203\n",
      "Skew:                           0.490   Prob(JB):                        0.548\n",
      "Kurtosis:                       2.945   Cond. No.                     1.79e+05\n",
      "==============================================================================\n",
      "\n",
      "Notes:\n",
      "[1] Standard Errors assume that the covariance matrix of the errors is correctly specified.\n",
      "[2] The condition number is large, 1.79e+05. This might indicate that there are\n",
      "strong multicollinearity or other numerical problems.\n"
     ]
    }
   ],
   "source": [
    "x = df.drop(columns=['Festigkeit', 'Standard_x_Feuchtigkeit', 'Konsort_x_Standard'])\n",
    "y = df['Festigkeit']\n",
    "x = add_constant(x)\n",
    "model = OLS(y, x).fit()\n",
    "print(model.summary())"
   ]
  },
  {
   "cell_type": "markdown",
   "id": "f5003688",
   "metadata": {},
   "source": [
    "Jetzt nehme ich `Konsort_x_Feuchtigkeit` raus."
   ]
  },
  {
   "cell_type": "code",
   "execution_count": 26,
   "id": "bc642359",
   "metadata": {},
   "outputs": [
    {
     "name": "stdout",
     "output_type": "stream",
     "text": [
      "                            OLS Regression Results                            \n",
      "==============================================================================\n",
      "Dep. Variable:             Festigkeit   R-squared:                       0.807\n",
      "Model:                            OLS   Adj. R-squared:                  0.746\n",
      "Method:                 Least Squares   F-statistic:                     13.15\n",
      "Date:                Sun, 08 Jun 2025   Prob (F-statistic):           1.47e-06\n",
      "Time:                        01:03:09   Log-Likelihood:                -54.337\n",
      "No. Observations:                  30   AIC:                             124.7\n",
      "Df Residuals:                      22   BIC:                             135.9\n",
      "Df Model:                           7                                         \n",
      "Covariance Type:            nonrobust                                         \n",
      "==========================================================================================\n",
      "                             coef    std err          t      P>|t|      [0.025      0.975]\n",
      "------------------------------------------------------------------------------------------\n",
      "const                     20.0675     20.129      0.997      0.330     -21.678      61.813\n",
      "Feuchtigkeit               0.5905      0.790      0.747      0.463      -1.049       2.230\n",
      "Marke_Grauert             -8.8742      7.584     -1.170      0.254     -24.603       6.854\n",
      "Marke_Konsort             -0.7383      0.815     -0.906      0.375      -2.429       0.952\n",
      "Additiv_Standard          -1.0161      0.877     -1.158      0.259      -2.836       0.803\n",
      "Feuchtigkeit_squared      -0.0093      0.008     -1.212      0.238      -0.025       0.007\n",
      "Grauert_x_Feuchtigkeit     0.2698      0.152      1.776      0.090      -0.045       0.585\n",
      "Grauert_x_Standard        -3.3625      1.527     -2.201      0.038      -6.530      -0.195\n",
      "==============================================================================\n",
      "Omnibus:                        1.768   Durbin-Watson:                   1.552\n",
      "Prob(Omnibus):                  0.413   Jarque-Bera (JB):                1.573\n",
      "Skew:                           0.523   Prob(JB):                        0.456\n",
      "Kurtosis:                       2.595   Cond. No.                     1.77e+05\n",
      "==============================================================================\n",
      "\n",
      "Notes:\n",
      "[1] Standard Errors assume that the covariance matrix of the errors is correctly specified.\n",
      "[2] The condition number is large, 1.77e+05. This might indicate that there are\n",
      "strong multicollinearity or other numerical problems.\n"
     ]
    }
   ],
   "source": [
    "x = df.drop(columns=['Festigkeit', 'Standard_x_Feuchtigkeit', 'Konsort_x_Standard',\n",
    "                    'Konsort_x_Feuchtigkeit'])\n",
    "y = df['Festigkeit']\n",
    "x = add_constant(x)\n",
    "model = OLS(y, x).fit()\n",
    "print(model.summary())"
   ]
  },
  {
   "cell_type": "markdown",
   "id": "cc5764af",
   "metadata": {},
   "source": [
    "Jetzt nehme ich `Feuchtigkeit_squared` raus."
   ]
  },
  {
   "cell_type": "code",
   "execution_count": 27,
   "id": "80cbb9bf",
   "metadata": {},
   "outputs": [
    {
     "name": "stdout",
     "output_type": "stream",
     "text": [
      "                            OLS Regression Results                            \n",
      "==============================================================================\n",
      "Dep. Variable:             Festigkeit   R-squared:                       0.794\n",
      "Model:                            OLS   Adj. R-squared:                  0.741\n",
      "Method:                 Least Squares   F-statistic:                     14.80\n",
      "Date:                Sun, 08 Jun 2025   Prob (F-statistic):           7.05e-07\n",
      "Time:                        01:03:09   Log-Likelihood:                -55.307\n",
      "No. Observations:                  30   AIC:                             124.6\n",
      "Df Residuals:                      23   BIC:                             134.4\n",
      "Df Model:                           6                                         \n",
      "Covariance Type:            nonrobust                                         \n",
      "==========================================================================================\n",
      "                             coef    std err          t      P>|t|      [0.025      0.975]\n",
      "------------------------------------------------------------------------------------------\n",
      "const                     44.0771      3.620     12.177      0.000      36.589      51.565\n",
      "Feuchtigkeit              -0.3630      0.077     -4.705      0.000      -0.523      -0.203\n",
      "Marke_Grauert             -3.2857      6.083     -0.540      0.594     -15.869       9.298\n",
      "Marke_Konsort             -0.5772      0.812     -0.711      0.485      -2.258       1.103\n",
      "Additiv_Standard          -1.2076      0.872     -1.385      0.179      -3.011       0.596\n",
      "Grauert_x_Feuchtigkeit     0.1606      0.124      1.300      0.206      -0.095       0.416\n",
      "Grauert_x_Standard        -3.0022      1.513     -1.984      0.059      -6.133       0.129\n",
      "==============================================================================\n",
      "Omnibus:                        2.942   Durbin-Watson:                   1.689\n",
      "Prob(Omnibus):                  0.230   Jarque-Bera (JB):                2.094\n",
      "Skew:                           0.646   Prob(JB):                        0.351\n",
      "Kurtosis:                       3.057   Cond. No.                     1.14e+03\n",
      "==============================================================================\n",
      "\n",
      "Notes:\n",
      "[1] Standard Errors assume that the covariance matrix of the errors is correctly specified.\n",
      "[2] The condition number is large, 1.14e+03. This might indicate that there are\n",
      "strong multicollinearity or other numerical problems.\n"
     ]
    }
   ],
   "source": [
    "x = df.drop(columns=['Festigkeit', 'Standard_x_Feuchtigkeit', 'Konsort_x_Standard',\n",
    "                    'Konsort_x_Feuchtigkeit', 'Feuchtigkeit_squared'])\n",
    "y = df['Festigkeit']\n",
    "x = add_constant(x)\n",
    "model = OLS(y, x).fit()\n",
    "print(model.summary())"
   ]
  },
  {
   "cell_type": "markdown",
   "id": "970111dc",
   "metadata": {},
   "source": [
    "!!R2 und R2-Adjusted die beide sind jetzt schlechter, deswegen ich würde `Feuchtigkeit_squared` drin lassen."
   ]
  },
  {
   "cell_type": "code",
   "execution_count": 28,
   "id": "536c250d",
   "metadata": {},
   "outputs": [
    {
     "name": "stdout",
     "output_type": "stream",
     "text": [
      "                            OLS Regression Results                            \n",
      "==============================================================================\n",
      "Dep. Variable:             Festigkeit   R-squared:                       0.795\n",
      "Model:                            OLS   Adj. R-squared:                  0.742\n",
      "Method:                 Least Squares   F-statistic:                     14.90\n",
      "Date:                Sun, 08 Jun 2025   Prob (F-statistic):           6.63e-07\n",
      "Time:                        01:03:09   Log-Likelihood:                -55.225\n",
      "No. Observations:                  30   AIC:                             124.5\n",
      "Df Residuals:                      23   BIC:                             134.3\n",
      "Df Model:                           6                                         \n",
      "Covariance Type:            nonrobust                                         \n",
      "==========================================================================================\n",
      "                             coef    std err          t      P>|t|      [0.025      0.975]\n",
      "------------------------------------------------------------------------------------------\n",
      "const                     17.3239     20.137      0.860      0.399     -24.333      58.981\n",
      "Feuchtigkeit               0.7159      0.789      0.908      0.373      -0.916       2.347\n",
      "Marke_Grauert            -11.2230      7.362     -1.524      0.141     -26.452       4.006\n",
      "Marke_Konsort             -0.6539      0.818     -0.800      0.432      -2.346       1.038\n",
      "Feuchtigkeit_squared      -0.0110      0.008     -1.434      0.165      -0.027       0.005\n",
      "Grauert_x_Feuchtigkeit     0.3272      0.145      2.263      0.033       0.028       0.626\n",
      "Grauert_x_Standard        -4.4077      1.241     -3.550      0.002      -6.976      -1.840\n",
      "==============================================================================\n",
      "Omnibus:                        2.460   Durbin-Watson:                   1.530\n",
      "Prob(Omnibus):                  0.292   Jarque-Bera (JB):                2.087\n",
      "Skew:                           0.534   Prob(JB):                        0.352\n",
      "Kurtosis:                       2.273   Cond. No.                     1.76e+05\n",
      "==============================================================================\n",
      "\n",
      "Notes:\n",
      "[1] Standard Errors assume that the covariance matrix of the errors is correctly specified.\n",
      "[2] The condition number is large, 1.76e+05. This might indicate that there are\n",
      "strong multicollinearity or other numerical problems.\n"
     ]
    }
   ],
   "source": [
    "x = df.drop(columns=['Festigkeit', 'Standard_x_Feuchtigkeit', 'Konsort_x_Standard', 'Additiv_Standard',\n",
    "                    'Konsort_x_Feuchtigkeit'])\n",
    "y = df['Festigkeit']\n",
    "x = add_constant(x)\n",
    "model = OLS(y, x).fit()\n",
    "print(model.summary())"
   ]
  },
  {
   "cell_type": "markdown",
   "id": "c205a54b",
   "metadata": {},
   "source": [
    "Das ist mein finales Modell."
   ]
  },
  {
   "cell_type": "markdown",
   "id": "c1744fd6",
   "metadata": {},
   "source": [
    "b) Reduzieren Sie das Modell in geeigneter Weise. Wie haben sich das Bestimmtheitsmaß und das korrigierte Bestimmtheitsmaß im Vergleich zum vollen Modell verändert?"
   ]
  },
  {
   "cell_type": "markdown",
   "id": "0478227d",
   "metadata": {},
   "source": [
    "- Das Modell mit allen Variablen hatte R2 von 0.821 und R2-Adjusted von 0.726.\n",
    "- Das Modell am Ende nach der Entfernung nicht signifikanten Variablen bzw. (wo wir keine große Verlust an R2 hatten) haben wir R2 von 0.807 und R2-Adjusted von 0.746.\n",
    "- Unser Base Modell hatte den R2 von 0.757 und R2-Adjusted von 0.718."
   ]
  },
  {
   "cell_type": "markdown",
   "id": "95d1bee4",
   "metadata": {},
   "source": [
    "c) Wieso werden nicht-signifikante Effekte aus einem Regressionsmodell entfernt?"
   ]
  },
  {
   "cell_type": "markdown",
   "id": "d397cc1b",
   "metadata": {},
   "source": [
    "Um R2-Adjusted zu verbessern bzw. unser Modell robuster zu machen."
   ]
  },
  {
   "cell_type": "markdown",
   "id": "a67d29b0",
   "metadata": {},
   "source": [
    "d) Was unterscheidet den Faktor Feuchtigkeit von den anderen beiden Faktoren? (Hier ist nicht die Skala gemeint)"
   ]
  },
  {
   "cell_type": "markdown",
   "id": "66f0b93b",
   "metadata": {},
   "source": [
    "### Frage: \n",
    "Wir haben immer k-1 Kategorien genommen und daraus Interaktionen gebildet, hätten wir doch all k Kategorien für Interaktion genommen bzw. eine andere Kategorie rausgelassen und dann Interaktion gebildet, hätte es einen Unterschied gemacht? Ich habe das schonmal getestet und mind. R2 ist immer das Gleiche geblieben, aber das kann nicht nachvollziehen warum es keinen Unterschied macht? Kann es schon sein dass eine Kategorie zusammen mit einem anderen Prädiktor gute Korrelation mit der Zielvariable hat als eine andere Kategorie mit dem gleichen Prädiktor, aber trotzdem macht es keinen Unterschied."
   ]
  }
 ],
 "metadata": {
  "kernelspec": {
   "display_name": "statistics",
   "language": "python",
   "name": "python3"
  },
  "language_info": {
   "codemirror_mode": {
    "name": "ipython",
    "version": 3
   },
   "file_extension": ".py",
   "mimetype": "text/x-python",
   "name": "python",
   "nbconvert_exporter": "python",
   "pygments_lexer": "ipython3",
   "version": "3.10.16"
  }
 },
 "nbformat": 4,
 "nbformat_minor": 5
}
